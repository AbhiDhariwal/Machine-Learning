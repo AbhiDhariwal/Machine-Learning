{
 "cells": [
  {
   "cell_type": "markdown",
   "metadata": {},
   "source": [
    "## Part 1"
   ]
  },
  {
   "cell_type": "markdown",
   "metadata": {},
   "source": [
    "Steps involved :- \n",
    "1. Loading Training/Testing Data\n",
    "2. Formatting into structured JSON format\n",
    "3. Saving File named \"\" \"updated\" + Filename \"\""
   ]
  },
  {
   "cell_type": "code",
   "execution_count": 6,
   "metadata": {},
   "outputs": [],
   "source": [
    "#Loading JSON Library\n",
    "import json"
   ]
  },
  {
   "cell_type": "code",
   "execution_count": 4,
   "metadata": {},
   "outputs": [],
   "source": [
    "filename = \"f.json\""
   ]
  },
  {
   "cell_type": "code",
   "execution_count": 5,
   "metadata": {},
   "outputs": [],
   "source": [
    "with open(filename,\"r\", encoding=\"utf8\") as f:\n",
    "    data = f.read()"
   ]
  },
  {
   "cell_type": "code",
   "execution_count": 6,
   "metadata": {},
   "outputs": [],
   "source": [
    "def savetoJSONFormat(data):\n",
    "    index = data.find(\"\\n\")\n",
    "    data[:index+2]\n",
    "    \n",
    "    # no \",\" after every sentence and overall [] are missing for proper json input\n",
    "    datareplaced = data.replace(\"\\n\",\",\")\n",
    "    datareplaced.find(\"\\n\")\n",
    "    \n",
    "    #above code add \",\" at last sentence so removing it\n",
    "    index = len(datareplaced)\n",
    "    datareplaced = datareplaced[:index-1]\n",
    "    \n",
    "    \n",
    "    with open(\"updated \"+filename,\"w+\") as f:\n",
    "        f.write(\"[\" + datareplaced + \"]\")\n",
    "        print(\"File saved :- \", \"updated \"+filename)\n",
    "    return "
   ]
  },
  {
   "cell_type": "code",
   "execution_count": 7,
   "metadata": {},
   "outputs": [
    {
     "name": "stdout",
     "output_type": "stream",
     "text": [
      "File saved :-  updated f.json\n"
     ]
    }
   ],
   "source": [
    "savetoJSONFormat(data)"
   ]
  },
  {
   "cell_type": "code",
   "execution_count": null,
   "metadata": {},
   "outputs": [],
   "source": []
  },
  {
   "cell_type": "markdown",
   "metadata": {},
   "source": [
    "# Part 2"
   ]
  },
  {
   "cell_type": "markdown",
   "metadata": {},
   "source": [
    "Steps invloved :-\n",
    "1. Loading JSON File of  Traning and Testing Data\n",
    "2. Formating JSON file to required format for training\n",
    "\n",
    "{ Loading the New Testing Set (Using On Unseen Data Set)  to avoid overfitting of the training data }"
   ]
  },
  {
   "cell_type": "code",
   "execution_count": 30,
   "metadata": {},
   "outputs": [],
   "source": [
    "trainfile = \"f.json\""
   ]
  },
  {
   "cell_type": "code",
   "execution_count": 31,
   "metadata": {},
   "outputs": [],
   "source": [
    "with open(\"updated \"+trainfile) as train_data:\n",
    "    train = json.load(train_data)"
   ]
  },
  {
   "cell_type": "code",
   "execution_count": 32,
   "metadata": {},
   "outputs": [
    {
     "name": "stdout",
     "output_type": "stream",
     "text": [
      "('Gujarmal Modi 9 August 1902  22 January 1976 was an Indian industrialist and philanthropist, who co-established the Modi Group of companies and the industrial city of Modinagar in 1933, along with his brother Kedar Nath Modi', {'entities': [(0, 13, 'Person'), (209, 224, 'Person'), (167, 176, 'Location')]})\n"
     ]
    }
   ],
   "source": [
    "TRAIN_DATA = []\n",
    "\n",
    "for data in train:\n",
    "    ents = [tuple(entity) for entity in data['labels']]\n",
    "    TRAIN_DATA.append((data['text'],{'entities':ents}))\n",
    "\n",
    "print(TRAIN_DATA[0])\n"
   ]
  },
  {
   "cell_type": "code",
   "execution_count": 7,
   "metadata": {},
   "outputs": [],
   "source": [
    "testfile =  \"train1.json\""
   ]
  },
  {
   "cell_type": "code",
   "execution_count": 8,
   "metadata": {},
   "outputs": [],
   "source": [
    "with open(\"updated \"+testfile) as test_data:\n",
    "    test = json.load(test_data) "
   ]
  },
  {
   "cell_type": "code",
   "execution_count": 9,
   "metadata": {},
   "outputs": [
    {
     "name": "stdout",
     "output_type": "stream",
     "text": [
      "('PM Modi and his officials will be holding talks and inaugurate a few defence projects', {'entities': [(0, 7, 'Narendra Modi')]})\n"
     ]
    }
   ],
   "source": [
    "TEST_DATA = []\n",
    "\n",
    "for data in test:\n",
    "    ents = [tuple(entity) for entity in data['labels']]\n",
    "    TEST_DATA.append((data['text'],{'entities':ents}))\n",
    "    \n",
    "print(TEST_DATA[0]) "
   ]
  },
  {
   "cell_type": "markdown",
   "metadata": {},
   "source": [
    "# Part  3"
   ]
  },
  {
   "cell_type": "markdown",
   "metadata": {},
   "source": [
    "Steps involved :- \n",
    "1. Loading required library\n",
    "2. Setting up the parameters for traning\n",
    "3. Traning and saving the best model"
   ]
  },
  {
   "cell_type": "code",
   "execution_count": 10,
   "metadata": {},
   "outputs": [],
   "source": [
    "import spacy\n",
    "import random # random function for to remove bais in Traning Data\n",
    "\n",
    "# for batch parsing \n",
    "from spacy.util import minibatch, compounding\n",
    "\n",
    "# For evaluateing the model from testing set\n",
    "from spacy.gold import GoldParse\n",
    "from spacy.scorer import Scorer\n"
   ]
  },
  {
   "cell_type": "code",
   "execution_count": null,
   "metadata": {},
   "outputs": [],
   "source": []
  },
  {
   "cell_type": "code",
   "execution_count": 15,
   "metadata": {},
   "outputs": [],
   "source": [
    "def train_spacy(data,iterations,droprate = 0.5,modelName = \"modelTrained\"):\n",
    "    \n",
    "    # Loading Traning data\n",
    "    TRAIN_DATA = data\n",
    "    \n",
    "    \n",
    "    nlp = spacy.blank('en')  # create blank Language class\n",
    "    # create the built-in pipeline components and add them to the pipeline\n",
    "    # nlp.create_pipe works for built-ins that are registered with spaCy\n",
    "    if 'ner' not in nlp.pipe_names:\n",
    "        ner = nlp.create_pipe('ner')\n",
    "        nlp.add_pipe(ner, last=True)\n",
    "     \n",
    "    # setting up f1score\n",
    "    f1score = 0.0000\n",
    "\n",
    "    \n",
    "    # add labels that will be involved in training \n",
    "    for _, annotations in TRAIN_DATA:\n",
    "         for ent in annotations.get('entities'):\n",
    "            ner.add_label(ent[2])\n",
    "            \n",
    "\n",
    "    # get names of other pipes to disable them during training\n",
    "    other_pipes = [pipe for pipe in nlp.pipe_names if pipe != 'ner']\n",
    "    with nlp.disable_pipes(*other_pipes):  # only train NER\n",
    "        optimizer = nlp.begin_training()\n",
    "        \n",
    "        # --Iterations Starts--\n",
    "        for itn in range(iterations):\n",
    "            print(\"Starting iteration \" + str(itn))\n",
    "            #--Shuffling Traning Data--\n",
    "            random.shuffle(TRAIN_DATA)\n",
    "            losses = {}\n",
    "            \n",
    "                      \n",
    "                    \n",
    "            # batch Traning For better Training and Learning of model\n",
    "            batches = minibatch(TRAIN_DATA, size=compounding(4.0, 32.0, 1.001))\n",
    "            for batch in batches:\n",
    "                texts, annotations = zip(*batch)\n",
    "                nlp.update(\n",
    "                    texts,  # batch of texts\n",
    "                    annotations,  # batch of annotations\n",
    "                    drop=droprate,  # dropout - make it harder to memorise data\n",
    "                    losses=losses,\n",
    "                )\n",
    "            print(losses)\n",
    "            \n",
    "            \n",
    "            # Evaluating the Current Model Score \n",
    "            results = evaluate(nlp, TEST_DATA)\n",
    "            print(\"Current Score :-\",results[\"ents_f\"])\n",
    "\n",
    "            \n",
    "            # loading previous best saved model in start of traning \n",
    "            if f1score == 0.00:\n",
    "                try:\n",
    "                    modelfile = modelName\n",
    "                    pnlp = spacy.load(modelfile)\n",
    "                    result = evaluate(pnlp, TEST_DATA) # calling evaluate function \n",
    "                    f1score = result[\"ents_f\"]\n",
    "                except:\n",
    "                    print(\"Previous Model not found\")\n",
    "                    \n",
    "            print(\"Best Sccore :- \",f1score)\n",
    "            \n",
    "            # finding out the best score\n",
    "            if f1score < results[\"ents_f\"]:\n",
    "                f1score = results[\"ents_f\"]\n",
    "                # Save our trained Model if the score if grater than best score else no change in previous model\n",
    "                nlp.to_disk(modelName)\n",
    "                \n",
    "    print(\"-----Best Model is Saved-----\")\n",
    "    return \n"
   ]
  },
  {
   "cell_type": "code",
   "execution_count": 16,
   "metadata": {},
   "outputs": [],
   "source": [
    "def evaluate(ner_model, examples):\n",
    "    scorer = Scorer()\n",
    "     \n",
    "    #loading tags for each input and Evaluating them\n",
    "    for input_, annotations in examples:\n",
    "        tags = []\n",
    "        # loading text\n",
    "        doc_gold_text = ner_model.make_doc(input_)\n",
    "        \n",
    "        #loading all tags for that text\n",
    "        for ent in annotations.get('entities'):\n",
    "            tags.append(ent)\n",
    "            \n",
    "        # Evaluating the tags    \n",
    "        gold = GoldParse(doc_gold_text, entities=tags)\n",
    "        pred_value = ner_model(input_)\n",
    "        scorer.score(pred_value, gold)\n",
    "        \n",
    "        \n",
    "    return scorer.scores\n"
   ]
  },
  {
   "cell_type": "code",
   "execution_count": 12,
   "metadata": {},
   "outputs": [],
   "source": [
    "def loadNERModel(modelName = \"modelTrained\"):\n",
    "    pnlp = spacy.load(modelName)\n",
    "    return pnlp"
   ]
  },
  {
   "cell_type": "code",
   "execution_count": 13,
   "metadata": {},
   "outputs": [],
   "source": [
    "def f1score(model,TEST_DATA):\n",
    "    result = evaluate(model, TEST_DATA) # calling evaluate function \n",
    "    f1score = result[\"ents_f\"]\n",
    "    print(\"F1 score off Model is :-\",f1score)"
   ]
  },
  {
   "cell_type": "code",
   "execution_count": 24,
   "metadata": {},
   "outputs": [
    {
     "name": "stdout",
     "output_type": "stream",
     "text": [
      "Warning: Unnamed vectors -- this won't allow multiple vectors models to be loaded. (Shape: (0, 0))\n",
      "Starting iteration 0\n",
      "{'ner': 53.8163348590263}\n",
      "Current Score :- 14.705882352941178\n",
      "Best Sccore :-  71.280276816609\n",
      "Starting iteration 1\n",
      "{'ner': 22.770258148378126}\n",
      "Current Score :- 26.08695652173913\n",
      "Best Sccore :-  71.280276816609\n",
      "Starting iteration 2\n",
      "{'ner': 20.729032089713275}\n",
      "Current Score :- 30.943396226415093\n",
      "Best Sccore :-  71.280276816609\n",
      "Starting iteration 3\n",
      "{'ner': 17.293015892204004}\n",
      "Current Score :- 50.174216027874564\n",
      "Best Sccore :-  71.280276816609\n",
      "Starting iteration 4\n",
      "{'ner': 17.3278846234176}\n",
      "Current Score :- 49.30555555555556\n",
      "Best Sccore :-  71.280276816609\n",
      "Starting iteration 5\n",
      "{'ner': 16.088963218377096}\n",
      "Current Score :- 55.714285714285715\n",
      "Best Sccore :-  71.280276816609\n",
      "Starting iteration 6\n",
      "{'ner': 16.362135499011483}\n",
      "Current Score :- 56.74740484429065\n",
      "Best Sccore :-  71.280276816609\n",
      "Starting iteration 7\n",
      "{'ner': 13.918331864765939}\n",
      "Current Score :- 54.21245421245422\n",
      "Best Sccore :-  71.280276816609\n",
      "Starting iteration 8\n",
      "{'ner': 11.847385018433267}\n",
      "Current Score :- 54.074074074074076\n",
      "Best Sccore :-  71.280276816609\n",
      "Starting iteration 9\n",
      "{'ner': 11.685633833996699}\n",
      "Current Score :- 55.102040816326536\n",
      "Best Sccore :-  71.280276816609\n",
      "Starting iteration 10\n",
      "{'ner': 11.1578336243363}\n",
      "Current Score :- 51.798561151079134\n",
      "Best Sccore :-  71.280276816609\n",
      "Starting iteration 11\n",
      "{'ner': 10.885116997300978}\n",
      "Current Score :- 60.431654676258994\n",
      "Best Sccore :-  71.280276816609\n",
      "Starting iteration 12\n",
      "{'ner': 10.689836399990602}\n",
      "Current Score :- 58.4192439862543\n",
      "Best Sccore :-  71.280276816609\n",
      "Starting iteration 13\n",
      "{'ner': 11.090652960813289}\n",
      "Current Score :- 60.223048327137555\n",
      "Best Sccore :-  71.280276816609\n",
      "Starting iteration 14\n",
      "{'ner': 9.65567375823486}\n",
      "Current Score :- 60.06825938566552\n",
      "Best Sccore :-  71.280276816609\n",
      "Starting iteration 15\n",
      "{'ner': 10.157324577409273}\n",
      "Current Score :- 62.142857142857146\n",
      "Best Sccore :-  71.280276816609\n",
      "Starting iteration 16\n",
      "{'ner': 7.488142690780696}\n",
      "Current Score :- 61.53846153846153\n",
      "Best Sccore :-  71.280276816609\n",
      "Starting iteration 17\n",
      "{'ner': 8.119617042827226}\n",
      "Current Score :- 63.08724832214766\n",
      "Best Sccore :-  71.280276816609\n",
      "Starting iteration 18\n",
      "{'ner': 8.74668668606219}\n",
      "Current Score :- 62.06896551724138\n",
      "Best Sccore :-  71.280276816609\n",
      "Starting iteration 19\n",
      "{'ner': 8.490667611687613}\n",
      "Current Score :- 57.79467680608366\n",
      "Best Sccore :-  71.280276816609\n",
      "Starting iteration 20\n",
      "{'ner': 6.6900882598021285}\n",
      "Current Score :- 62.70627062706271\n",
      "Best Sccore :-  71.280276816609\n",
      "Starting iteration 21\n",
      "{'ner': 7.396536477824825}\n",
      "Current Score :- 59.285714285714285\n",
      "Best Sccore :-  71.280276816609\n",
      "Starting iteration 22\n",
      "{'ner': 7.315605607748992}\n",
      "Current Score :- 65.37216828478964\n",
      "Best Sccore :-  71.280276816609\n",
      "Starting iteration 23\n",
      "{'ner': 7.015013661370052}\n",
      "Current Score :- 64.23841059602648\n",
      "Best Sccore :-  71.280276816609\n",
      "Starting iteration 24\n",
      "{'ner': 7.452413220723446}\n",
      "Current Score :- 64.42953020134227\n",
      "Best Sccore :-  71.280276816609\n",
      "Starting iteration 25\n",
      "{'ner': 5.58935607897129}\n",
      "Current Score :- 64.58333333333333\n",
      "Best Sccore :-  71.280276816609\n",
      "Starting iteration 26\n",
      "{'ner': 5.379055351888324}\n",
      "Current Score :- 66.66666666666667\n",
      "Best Sccore :-  71.280276816609\n",
      "Starting iteration 27\n",
      "{'ner': 6.41434625311678}\n",
      "Current Score :- 64.28571428571428\n",
      "Best Sccore :-  71.280276816609\n",
      "Starting iteration 28\n",
      "{'ner': 5.01862318766583}\n",
      "Current Score :- 63.57142857142857\n",
      "Best Sccore :-  71.280276816609\n",
      "Starting iteration 29\n",
      "{'ner': 4.388653595334518}\n",
      "Current Score :- 64.80836236933798\n",
      "Best Sccore :-  71.280276816609\n",
      "Starting iteration 30\n",
      "{'ner': 3.6822043769108155}\n",
      "Current Score :- 66.66666666666666\n",
      "Best Sccore :-  71.280276816609\n",
      "Starting iteration 31\n",
      "{'ner': 3.8597203862273126}\n",
      "Current Score :- 68.45637583892618\n",
      "Best Sccore :-  71.280276816609\n",
      "Starting iteration 32\n",
      "{'ner': 4.941204471252835}\n",
      "Current Score :- 66.43598615916954\n",
      "Best Sccore :-  71.280276816609\n",
      "Starting iteration 33\n",
      "{'ner': 4.312487381475784}\n",
      "Current Score :- 67.83216783216784\n",
      "Best Sccore :-  71.280276816609\n",
      "Starting iteration 34\n",
      "{'ner': 2.457215841150187}\n",
      "Current Score :- 67.87003610108304\n",
      "Best Sccore :-  71.280276816609\n",
      "Starting iteration 35\n",
      "{'ner': 2.929986103263943}\n",
      "Current Score :- 67.52411575562701\n",
      "Best Sccore :-  71.280276816609\n",
      "Starting iteration 36\n",
      "{'ner': 3.4895104187599837}\n",
      "Current Score :- 69.79865771812081\n",
      "Best Sccore :-  71.280276816609\n",
      "Starting iteration 37\n",
      "{'ner': 2.288033673474924}\n",
      "Current Score :- 65.06849315068493\n",
      "Best Sccore :-  71.280276816609\n",
      "Starting iteration 38\n",
      "{'ner': 2.807268958403356}\n",
      "Current Score :- 64.21404682274246\n",
      "Best Sccore :-  71.280276816609\n",
      "Starting iteration 39\n",
      "{'ner': 2.322478330882054}\n",
      "Current Score :- 66.90391459074732\n",
      "Best Sccore :-  71.280276816609\n",
      "Starting iteration 40\n",
      "{'ner': 2.9814019801046427}\n",
      "Current Score :- 67.70186335403726\n",
      "Best Sccore :-  71.280276816609\n",
      "Starting iteration 41\n",
      "{'ner': 3.2536299458938096}\n",
      "Current Score :- 65.69343065693431\n",
      "Best Sccore :-  71.280276816609\n",
      "Starting iteration 42\n",
      "{'ner': 2.0178969478194704}\n",
      "Current Score :- 70.0\n",
      "Best Sccore :-  71.280276816609\n",
      "Starting iteration 43\n",
      "{'ner': 2.2282081267113854}\n",
      "Current Score :- 67.79661016949152\n",
      "Best Sccore :-  71.280276816609\n",
      "Starting iteration 44\n",
      "{'ner': 1.9466488478754}\n",
      "Current Score :- 69.45337620578778\n",
      "Best Sccore :-  71.280276816609\n",
      "Starting iteration 45\n",
      "{'ner': 3.0225323877145747}\n",
      "Current Score :- 68.75000000000001\n",
      "Best Sccore :-  71.280276816609\n",
      "Starting iteration 46\n",
      "{'ner': 3.077260369220739}\n",
      "Current Score :- 68.87417218543047\n",
      "Best Sccore :-  71.280276816609\n",
      "Starting iteration 47\n",
      "{'ner': 1.2872035621866789}\n",
      "Current Score :- 67.78523489932886\n",
      "Best Sccore :-  71.280276816609\n",
      "Starting iteration 48\n",
      "{'ner': 1.8091393998497802}\n",
      "Current Score :- 66.88963210702342\n",
      "Best Sccore :-  71.280276816609\n",
      "Starting iteration 49\n",
      "{'ner': 3.1637529786787995}\n",
      "Current Score :- 66.90391459074732\n",
      "Best Sccore :-  71.280276816609\n",
      "Starting iteration 50\n",
      "{'ner': 1.9752296106991538}\n",
      "Current Score :- 68.0701754385965\n",
      "Best Sccore :-  71.280276816609\n",
      "Starting iteration 51\n",
      "{'ner': 2.4718479018597814}\n",
      "Current Score :- 65.94202898550725\n",
      "Best Sccore :-  71.280276816609\n",
      "Starting iteration 52\n",
      "{'ner': 1.9954495883377323}\n",
      "Current Score :- 71.47766323024054\n",
      "Best Sccore :-  71.280276816609\n",
      "Starting iteration 53\n",
      "{'ner': 2.150684504965855}\n",
      "Current Score :- 70.58823529411765\n",
      "Best Sccore :-  71.47766323024054\n",
      "Starting iteration 54\n",
      "{'ner': 2.072494226690189}\n",
      "Current Score :- 67.13286713286713\n",
      "Best Sccore :-  71.47766323024054\n",
      "Starting iteration 55\n",
      "{'ner': 2.542760557186819}\n",
      "Current Score :- 65.13157894736842\n",
      "Best Sccore :-  71.47766323024054\n",
      "Starting iteration 56\n",
      "{'ner': 0.888928511443964}\n",
      "Current Score :- 65.08474576271186\n",
      "Best Sccore :-  71.47766323024054\n",
      "Starting iteration 57\n",
      "{'ner': 1.782092524705957}\n",
      "Current Score :- 63.60655737704918\n",
      "Best Sccore :-  71.47766323024054\n",
      "Starting iteration 58\n",
      "{'ner': 2.20049630274301}\n",
      "Current Score :- 66.88311688311688\n",
      "Best Sccore :-  71.47766323024054\n",
      "Starting iteration 59\n",
      "{'ner': 1.5240086940026445}\n",
      "Current Score :- 67.6056338028169\n",
      "Best Sccore :-  71.47766323024054\n",
      "Starting iteration 60\n",
      "{'ner': 1.7871126432610778}\n",
      "Current Score :- 67.13286713286713\n",
      "Best Sccore :-  71.47766323024054\n",
      "Starting iteration 61\n",
      "{'ner': 1.6150781401795438}\n",
      "Current Score :- 68.53146853146853\n",
      "Best Sccore :-  71.47766323024054\n",
      "Starting iteration 62\n",
      "{'ner': 0.8957438796541304}\n",
      "Current Score :- 69.75088967971531\n",
      "Best Sccore :-  71.47766323024054\n",
      "Starting iteration 63\n",
      "{'ner': 1.5074416060129583}\n",
      "Current Score :- 69.56521739130434\n",
      "Best Sccore :-  71.47766323024054\n",
      "Starting iteration 64\n",
      "{'ner': 0.8733908030678523}\n",
      "Current Score :- 68.1967213114754\n",
      "Best Sccore :-  71.47766323024054\n",
      "Starting iteration 65\n",
      "{'ner': 0.357121776293962}\n",
      "Current Score :- 68.87417218543047\n",
      "Best Sccore :-  71.47766323024054\n",
      "Starting iteration 66\n",
      "{'ner': 2.6637369511472393}\n",
      "Current Score :- 66.66666666666666\n",
      "Best Sccore :-  71.47766323024054\n",
      "Starting iteration 67\n",
      "{'ner': 1.0015742496298243}\n",
      "Current Score :- 69.03914590747331\n",
      "Best Sccore :-  71.47766323024054\n",
      "Starting iteration 68\n",
      "{'ner': 1.5928752813458047}\n",
      "Current Score :- 66.90391459074732\n",
      "Best Sccore :-  71.47766323024054\n",
      "Starting iteration 69\n",
      "{'ner': 1.27442232135253}\n",
      "Current Score :- 57.04467353951891\n",
      "Best Sccore :-  71.47766323024054\n",
      "Starting iteration 70\n",
      "{'ner': 0.9148518179621385}\n",
      "Current Score :- 65.94202898550725\n",
      "Best Sccore :-  71.47766323024054\n",
      "Starting iteration 71\n",
      "{'ner': 1.0638558637302227}\n",
      "Current Score :- 65.58441558441558\n",
      "Best Sccore :-  71.47766323024054\n",
      "Starting iteration 72\n",
      "{'ner': 1.1674891127136633}\n",
      "Current Score :- 70.35830618892508\n",
      "Best Sccore :-  71.47766323024054\n",
      "Starting iteration 73\n",
      "{'ner': 1.2932395874606324}\n",
      "Current Score :- 69.31407942238266\n",
      "Best Sccore :-  71.47766323024054\n",
      "Starting iteration 74\n",
      "{'ner': 0.7446712705360578}\n",
      "Current Score :- 69.31407942238266\n",
      "Best Sccore :-  71.47766323024054\n",
      "Starting iteration 75\n",
      "{'ner': 2.904848364204673}\n",
      "Current Score :- 67.6056338028169\n",
      "Best Sccore :-  71.47766323024054\n",
      "Starting iteration 76\n",
      "{'ner': 1.068081376846549}\n",
      "Current Score :- 67.83216783216784\n",
      "Best Sccore :-  71.47766323024054\n",
      "Starting iteration 77\n",
      "{'ner': 0.5038026589229468}\n",
      "Current Score :- 65.7243816254417\n",
      "Best Sccore :-  71.47766323024054\n",
      "Starting iteration 78\n",
      "{'ner': 1.172335519388619}\n",
      "Current Score :- 68.32740213523132\n",
      "Best Sccore :-  71.47766323024054\n",
      "Starting iteration 79\n",
      "{'ner': 1.6113475025772426}\n",
      "Current Score :- 66.20689655172414\n",
      "Best Sccore :-  71.47766323024054\n",
      "Starting iteration 80\n",
      "{'ner': 1.3034104026246403}\n",
      "Current Score :- 69.01408450704226\n",
      "Best Sccore :-  71.47766323024054\n",
      "Starting iteration 81\n",
      "{'ner': 1.007910183610183}\n",
      "Current Score :- 65.78073089700996\n",
      "Best Sccore :-  71.47766323024054\n",
      "Starting iteration 82\n",
      "{'ner': 0.6594899426091765}\n",
      "Current Score :- 65.29209621993127\n",
      "Best Sccore :-  71.47766323024054\n",
      "Starting iteration 83\n",
      "{'ner': 1.5884945257664227}\n",
      "Current Score :- 65.2482269503546\n",
      "Best Sccore :-  71.47766323024054\n",
      "Starting iteration 84\n",
      "{'ner': 1.1756166694823895}\n",
      "Current Score :- 65.05190311418684\n",
      "Best Sccore :-  71.47766323024054\n",
      "Starting iteration 85\n",
      "{'ner': 0.6596731256404275}\n",
      "Current Score :- 65.96491228070175\n",
      "Best Sccore :-  71.47766323024054\n",
      "Starting iteration 86\n",
      "{'ner': 0.39309991593414184}\n",
      "Current Score :- 64.90066225165563\n",
      "Best Sccore :-  71.47766323024054\n",
      "Starting iteration 87\n",
      "{'ner': 0.5129287986475418}\n",
      "Current Score :- 64.33566433566435\n",
      "Best Sccore :-  71.47766323024054\n",
      "Starting iteration 88\n",
      "{'ner': 0.4766709847934089}\n",
      "Current Score :- 62.758620689655174\n",
      "Best Sccore :-  71.47766323024054\n",
      "Starting iteration 89\n",
      "{'ner': 0.40425280671290265}\n",
      "Current Score :- 63.6986301369863\n",
      "Best Sccore :-  71.47766323024054\n",
      "Starting iteration 90\n",
      "{'ner': 0.33408602898780615}\n",
      "Current Score :- 62.62626262626263\n",
      "Best Sccore :-  71.47766323024054\n",
      "Starting iteration 91\n",
      "{'ner': 1.1311899708244195}\n",
      "Current Score :- 65.08474576271186\n",
      "Best Sccore :-  71.47766323024054\n",
      "Starting iteration 92\n",
      "{'ner': 0.6600005495909356}\n",
      "Current Score :- 65.99999999999999\n",
      "Best Sccore :-  71.47766323024054\n",
      "Starting iteration 93\n",
      "{'ner': 1.0745993131412788}\n",
      "Current Score :- 66.66666666666666\n",
      "Best Sccore :-  71.47766323024054\n",
      "Starting iteration 94\n",
      "{'ner': 0.7656602311906772}\n",
      "Current Score :- 64.96815286624204\n",
      "Best Sccore :-  71.47766323024054\n",
      "Starting iteration 95\n",
      "{'ner': 0.47710142062410427}\n",
      "Current Score :- 65.49295774647888\n",
      "Best Sccore :-  71.47766323024054\n",
      "Starting iteration 96\n",
      "{'ner': 0.8304096238232025}\n",
      "Current Score :- 64.46886446886447\n",
      "Best Sccore :-  71.47766323024054\n",
      "Starting iteration 97\n",
      "{'ner': 1.2027631117653823}\n",
      "Current Score :- 64.7887323943662\n",
      "Best Sccore :-  71.47766323024054\n",
      "Starting iteration 98\n",
      "{'ner': 0.2607521465782817}\n",
      "Current Score :- 68.87417218543047\n",
      "Best Sccore :-  71.47766323024054\n",
      "Starting iteration 99\n",
      "{'ner': 0.7018241075305102}\n",
      "Current Score :- 68.0701754385965\n",
      "Best Sccore :-  71.47766323024054\n",
      "-----Best Model is Saved-----\n"
     ]
    }
   ],
   "source": [
    "# traning the model with 50 iterations\n",
    "train_spacy(TRAIN_DATA, 100,droprate = 0.55, modelName = \"nm2.0\")"
   ]
  },
  {
   "cell_type": "code",
   "execution_count": 14,
   "metadata": {},
   "outputs": [],
   "source": [
    "# loading the saved model\n",
    "pnlp = loadNERModel(\"nm2.0\")"
   ]
  },
  {
   "cell_type": "code",
   "execution_count": 17,
   "metadata": {},
   "outputs": [
    {
     "name": "stdout",
     "output_type": "stream",
     "text": [
      "F1 score off Model is :- 71.47766323024054\n"
     ]
    }
   ],
   "source": [
    "# calculating the score of the model\n",
    "f1score(pnlp,TEST_DATA)"
   ]
  },
  {
   "cell_type": "code",
   "execution_count": 18,
   "metadata": {},
   "outputs": [],
   "source": [
    "from spacy import displacy"
   ]
  },
  {
   "cell_type": "code",
   "execution_count": 23,
   "metadata": {},
   "outputs": [
    {
     "data": {
      "text/html": [
       "<div class=\"entities\" style=\"line-height: 2.5\">\n",
       "<mark class=\"entity\" style=\"background: #ddd; padding: 0.45em 0.6em; margin: 0 0.25em; line-height: 1; border-radius: 0.35em; box-decoration-break: clone; -webkit-box-decoration-break: clone\">\n",
       "    PM Modi\n",
       "    <span style=\"font-size: 0.8em; font-weight: bold; line-height: 1; border-radius: 0.35em; text-transform: uppercase; vertical-align: middle; margin-left: 0.5rem\">Narendra Modi</span>\n",
       "</mark>\n",
       " and his officials will be holding talks and inaugurate a few defence projects</div>"
      ],
      "text/plain": [
       "<IPython.core.display.HTML object>"
      ]
     },
     "metadata": {},
     "output_type": "display_data"
    }
   ],
   "source": [
    "testcase = pnlp(TEST_DATA[0][0])\n",
    "displacy.render(testcase, style='ent', jupyter=True)"
   ]
  },
  {
   "cell_type": "code",
   "execution_count": 41,
   "metadata": {},
   "outputs": [
    {
     "data": {
      "text/html": [
       "<div class=\"entities\" style=\"line-height: 2.5\">\n",
       "<mark class=\"entity\" style=\"background: #ddd; padding: 0.45em 0.6em; margin: 0 0.25em; line-height: 1; border-radius: 0.35em; box-decoration-break: clone; -webkit-box-decoration-break: clone\">\n",
       "    PM Modi\n",
       "    <span style=\"font-size: 0.8em; font-weight: bold; line-height: 1; border-radius: 0.35em; text-transform: uppercase; vertical-align: middle; margin-left: 0.5rem\">Narendra Modi</span>\n",
       "</mark>\n",
       " and his officials will be holding talks and inaugurate a few defence projects</div>"
      ],
      "text/plain": [
       "<IPython.core.display.HTML object>"
      ]
     },
     "metadata": {},
     "output_type": "display_data"
    },
    {
     "name": "stdout",
     "output_type": "stream",
     "text": [
      "--\n"
     ]
    },
    {
     "data": {
      "text/html": [
       "<div class=\"entities\" style=\"line-height: 2.5\">\n",
       "<mark class=\"entity\" style=\"background: #ddd; padding: 0.45em 0.6em; margin: 0 0.25em; line-height: 1; border-radius: 0.35em; box-decoration-break: clone; -webkit-box-decoration-break: clone\">\n",
       "    Prime Minister Modi\n",
       "    <span style=\"font-size: 0.8em; font-weight: bold; line-height: 1; border-radius: 0.35em; text-transform: uppercase; vertical-align: middle; margin-left: 0.5rem\">Narendra Modi</span>\n",
       "</mark>\n",
       " landed in the country capital Male where he is expected to hold talks with \n",
       "<mark class=\"entity\" style=\"background: #aa9cfc; padding: 0.45em 0.6em; margin: 0 0.25em; line-height: 1; border-radius: 0.35em; box-decoration-break: clone; -webkit-box-decoration-break: clone\">\n",
       "    President Solih\n",
       "    <span style=\"font-size: 0.8em; font-weight: bold; line-height: 1; border-radius: 0.35em; text-transform: uppercase; vertical-align: middle; margin-left: 0.5rem\">Person</span>\n",
       "</mark>\n",
       "</div>"
      ],
      "text/plain": [
       "<IPython.core.display.HTML object>"
      ]
     },
     "metadata": {},
     "output_type": "display_data"
    },
    {
     "name": "stdout",
     "output_type": "stream",
     "text": [
      "--\n"
     ]
    },
    {
     "data": {
      "text/html": [
       "<div class=\"entities\" style=\"line-height: 2.5\">\n",
       "<mark class=\"entity\" style=\"background: #ddd; padding: 0.45em 0.6em; margin: 0 0.25em; line-height: 1; border-radius: 0.35em; box-decoration-break: clone; -webkit-box-decoration-break: clone\">\n",
       "    Friendship\n",
       "    <span style=\"font-size: 0.8em; font-weight: bold; line-height: 1; border-radius: 0.35em; text-transform: uppercase; vertical-align: middle; margin-left: 0.5rem\">Location</span>\n",
       "</mark>\n",
       " forever!PM @narendramodi arrives in Male capital of Maldives to a warm reception by \n",
       "<mark class=\"entity\" style=\"background: #ddd; padding: 0.45em 0.6em; margin: 0 0.25em; line-height: 1; border-radius: 0.35em; box-decoration-break: clone; -webkit-box-decoration-break: clone\">\n",
       "    Foreign Minister @abdulla_shahid\n",
       "    <span style=\"font-size: 0.8em; font-weight: bold; line-height: 1; border-radius: 0.35em; text-transform: uppercase; vertical-align: middle; margin-left: 0.5rem\">Narendra Modi</span>\n",
       "</mark>\n",
       "</div>"
      ],
      "text/plain": [
       "<IPython.core.display.HTML object>"
      ]
     },
     "metadata": {},
     "output_type": "display_data"
    },
    {
     "name": "stdout",
     "output_type": "stream",
     "text": [
      "--\n"
     ]
    },
    {
     "data": {
      "text/html": [
       "<div class=\"entities\" style=\"line-height: 2.5\">Maldives is also planning to honour \n",
       "<mark class=\"entity\" style=\"background: #ddd; padding: 0.45em 0.6em; margin: 0 0.25em; line-height: 1; border-radius: 0.35em; box-decoration-break: clone; -webkit-box-decoration-break: clone\">\n",
       "    PM Modi\n",
       "    <span style=\"font-size: 0.8em; font-weight: bold; line-height: 1; border-radius: 0.35em; text-transform: uppercase; vertical-align: middle; margin-left: 0.5rem\">Narendra Modi</span>\n",
       "</mark>\n",
       " with the Order of Nishanizzuddeen a prestigious award in the country</div>"
      ],
      "text/plain": [
       "<IPython.core.display.HTML object>"
      ]
     },
     "metadata": {},
     "output_type": "display_data"
    },
    {
     "name": "stdout",
     "output_type": "stream",
     "text": [
      "--\n"
     ]
    },
    {
     "name": "stderr",
     "output_type": "stream",
     "text": [
      "E:\\Anaconda3\\lib\\runpy.py:193: UserWarning: [W006] No entities to visualize found in Doc object. If this is surprising to you, make sure the Doc was processed using a model that supports named entity recognition, and check the `doc.ents` property manually if necessary.\n",
      "  \"__main__\", mod_spec)\n"
     ]
    },
    {
     "data": {
      "text/html": [
       "<div class=\"entities\" style=\"line-height: 2.5\">@narendramodi the Maldives highest honour accorded to foreign dignitaries</div>"
      ],
      "text/plain": [
       "<IPython.core.display.HTML object>"
      ]
     },
     "metadata": {},
     "output_type": "display_data"
    },
    {
     "name": "stdout",
     "output_type": "stream",
     "text": [
      "--\n"
     ]
    },
    {
     "data": {
      "text/html": [
       "<div class=\"entities\" style=\"line-height: 2.5\">\n",
       "<mark class=\"entity\" style=\"background: #ddd; padding: 0.45em 0.6em; margin: 0 0.25em; line-height: 1; border-radius: 0.35em; box-decoration-break: clone; -webkit-box-decoration-break: clone\">\n",
       "    Prime Minister Modi\n",
       "    <span style=\"font-size: 0.8em; font-weight: bold; line-height: 1; border-radius: 0.35em; text-transform: uppercase; vertical-align: middle; margin-left: 0.5rem\">Narendra Modi</span>\n",
       "</mark>\n",
       " will also be addressing the Maldives Parliament on Saturday</div>"
      ],
      "text/plain": [
       "<IPython.core.display.HTML object>"
      ]
     },
     "metadata": {},
     "output_type": "display_data"
    },
    {
     "name": "stdout",
     "output_type": "stream",
     "text": [
      "--\n"
     ]
    },
    {
     "data": {
      "text/html": [
       "<div class=\"entities\" style=\"line-height: 2.5\">#WATCH \n",
       "<mark class=\"entity\" style=\"background: #ddd; padding: 0.45em 0.6em; margin: 0 0.25em; line-height: 1; border-radius: 0.35em; box-decoration-break: clone; -webkit-box-decoration-break: clone\">\n",
       "    Prime Minister Narendra Modi\n",
       "    <span style=\"font-size: 0.8em; font-weight: bold; line-height: 1; border-radius: 0.35em; text-transform: uppercase; vertical-align: middle; margin-left: 0.5rem\">Narendra Modi</span>\n",
       "</mark>\n",
       " inspects guard of honour at Republic Square in Male; President of Maldives Ibrahim Mohamed Solih also present</div>"
      ],
      "text/plain": [
       "<IPython.core.display.HTML object>"
      ]
     },
     "metadata": {},
     "output_type": "display_data"
    },
    {
     "name": "stdout",
     "output_type": "stream",
     "text": [
      "--\n"
     ]
    },
    {
     "name": "stderr",
     "output_type": "stream",
     "text": [
      "E:\\Anaconda3\\lib\\runpy.py:193: UserWarning: [W006] No entities to visualize found in Doc object. If this is surprising to you, make sure the Doc was processed using a model that supports named entity recognition, and check the `doc.ents` property manually if necessary.\n",
      "  \"__main__\", mod_spec)\n"
     ]
    },
    {
     "data": {
      "text/html": [
       "<div class=\"entities\" style=\"line-height: 2.5\">com/RJ59DGeeoN ANI @ANI June 8 2019Modi is visiting Maldives in his first bilateral visit after retaining power in the Lok Sabha polls</div>"
      ],
      "text/plain": [
       "<IPython.core.display.HTML object>"
      ]
     },
     "metadata": {},
     "output_type": "display_data"
    },
    {
     "name": "stdout",
     "output_type": "stream",
     "text": [
      "--\n"
     ]
    },
    {
     "name": "stderr",
     "output_type": "stream",
     "text": [
      "E:\\Anaconda3\\lib\\runpy.py:193: UserWarning: [W006] No entities to visualize found in Doc object. If this is surprising to you, make sure the Doc was processed using a model that supports named entity recognition, and check the `doc.ents` property manually if necessary.\n",
      "  \"__main__\", mod_spec)\n"
     ]
    },
    {
     "data": {
      "text/html": [
       "<div class=\"entities\" style=\"line-height: 2.5\">Modi has reached the Indian Ocean archipelago in his first bilateral visit after retaining power in the Lok Sabha polls</div>"
      ],
      "text/plain": [
       "<IPython.core.display.HTML object>"
      ]
     },
     "metadata": {},
     "output_type": "display_data"
    },
    {
     "name": "stdout",
     "output_type": "stream",
     "text": [
      "--\n"
     ]
    },
    {
     "data": {
      "text/html": [
       "<div class=\"entities\" style=\"line-height: 2.5\">\n",
       "<mark class=\"entity\" style=\"background: #ddd; padding: 0.45em 0.6em; margin: 0 0.25em; line-height: 1; border-radius: 0.35em; box-decoration-break: clone; -webkit-box-decoration-break: clone\">\n",
       "    Prime Minister Narendra Modi\n",
       "    <span style=\"font-size: 0.8em; font-weight: bold; line-height: 1; border-radius: 0.35em; text-transform: uppercase; vertical-align: middle; margin-left: 0.5rem\">Narendra Modi</span>\n",
       "</mark>\n",
       " arrives at Male Airport</div>"
      ],
      "text/plain": [
       "<IPython.core.display.HTML object>"
      ]
     },
     "metadata": {},
     "output_type": "display_data"
    },
    {
     "name": "stdout",
     "output_type": "stream",
     "text": [
      "--\n"
     ]
    },
    {
     "data": {
      "text/html": [
       "<div class=\"entities\" style=\"line-height: 2.5\">Image \n",
       "<mark class=\"entity\" style=\"background: #ddd; padding: 0.45em 0.6em; margin: 0 0.25em; line-height: 1; border-radius: 0.35em; box-decoration-break: clone; -webkit-box-decoration-break: clone\">\n",
       "    ANIPrime Minister Modi\n",
       "    <span style=\"font-size: 0.8em; font-weight: bold; line-height: 1; border-radius: 0.35em; text-transform: uppercase; vertical-align: middle; margin-left: 0.5rem\">Narendra Modi</span>\n",
       "</mark>\n",
       " Friday said his visit to the Maldives reflects the importance India attaches to its Neighbourhood First policy</div>"
      ],
      "text/plain": [
       "<IPython.core.display.HTML object>"
      ]
     },
     "metadata": {},
     "output_type": "display_data"
    },
    {
     "name": "stdout",
     "output_type": "stream",
     "text": [
      "--\n"
     ]
    },
    {
     "data": {
      "text/html": [
       "<div class=\"entities\" style=\"line-height: 2.5\">\n",
       "<mark class=\"entity\" style=\"background: #ddd; padding: 0.45em 0.6em; margin: 0 0.25em; line-height: 1; border-radius: 0.35em; box-decoration-break: clone; -webkit-box-decoration-break: clone\">\n",
       "    Modi\n",
       "    <span style=\"font-size: 0.8em; font-weight: bold; line-height: 1; border-radius: 0.35em; text-transform: uppercase; vertical-align: middle; margin-left: 0.5rem\">Narendra Modi</span>\n",
       "</mark>\n",
       " said India considers the country as a valued partner with whom it shares deep bonds of history and culture</div>"
      ],
      "text/plain": [
       "<IPython.core.display.HTML object>"
      ]
     },
     "metadata": {},
     "output_type": "display_data"
    },
    {
     "name": "stdout",
     "output_type": "stream",
     "text": [
      "--\n"
     ]
    },
    {
     "data": {
      "text/html": [
       "<div class=\"entities\" style=\"line-height: 2.5\">Also read  \n",
       "<mark class=\"entity\" style=\"background: #ddd; padding: 0.45em 0.6em; margin: 0 0.25em; line-height: 1; border-radius: 0.35em; box-decoration-break: clone; -webkit-box-decoration-break: clone\">\n",
       "    PM Narendra Modi\n",
       "    <span style=\"font-size: 0.8em; font-weight: bold; line-height: 1; border-radius: 0.35em; text-transform: uppercase; vertical-align: middle; margin-left: 0.5rem\">Narendra Modi</span>\n",
       "</mark>\n",
       " says Kerala didn vote for us but it is as much mine as is VaranasiAlso read  Donald Trump says Moon is part of Mars</div>"
      ],
      "text/plain": [
       "<IPython.core.display.HTML object>"
      ]
     },
     "metadata": {},
     "output_type": "display_data"
    },
    {
     "name": "stdout",
     "output_type": "stream",
     "text": [
      "--\n"
     ]
    },
    {
     "data": {
      "text/html": [
       "<div class=\"entities\" style=\"line-height: 2.5\">\n",
       "<mark class=\"entity\" style=\"background: #ddd; padding: 0.45em 0.6em; margin: 0 0.25em; line-height: 1; border-radius: 0.35em; box-decoration-break: clone; -webkit-box-decoration-break: clone\">\n",
       "    PM Modi\n",
       "    <span style=\"font-size: 0.8em; font-weight: bold; line-height: 1; border-radius: 0.35em; text-transform: uppercase; vertical-align: middle; margin-left: 0.5rem\">Narendra Modi</span>\n",
       "</mark>\n",
       " will visit the Maldives on June 8 where he is expected to engage in talks with \n",
       "<mark class=\"entity\" style=\"background: #aa9cfc; padding: 0.45em 0.6em; margin: 0 0.25em; line-height: 1; border-radius: 0.35em; box-decoration-break: clone; -webkit-box-decoration-break: clone\">\n",
       "    President Ibrahim Mohamed Solih\n",
       "    <span style=\"font-size: 0.8em; font-weight: bold; line-height: 1; border-radius: 0.35em; text-transform: uppercase; vertical-align: middle; margin-left: 0.5rem\">Person</span>\n",
       "</mark>\n",
       " and strengthen diplomatic ties</div>"
      ],
      "text/plain": [
       "<IPython.core.display.HTML object>"
      ]
     },
     "metadata": {},
     "output_type": "display_data"
    },
    {
     "name": "stdout",
     "output_type": "stream",
     "text": [
      "--\n"
     ]
    },
    {
     "name": "stderr",
     "output_type": "stream",
     "text": [
      "E:\\Anaconda3\\lib\\runpy.py:193: UserWarning: [W006] No entities to visualize found in Doc object. If this is surprising to you, make sure the Doc was processed using a model that supports named entity recognition, and check the `doc.ents` property manually if necessary.\n",
      "  \"__main__\", mod_spec)\n"
     ]
    },
    {
     "data": {
      "text/html": [
       "<div class=\"entities\" style=\"line-height: 2.5\">On Friday Modi will address the Parliament of the Maldives</div>"
      ],
      "text/plain": [
       "<IPython.core.display.HTML object>"
      ]
     },
     "metadata": {},
     "output_type": "display_data"
    },
    {
     "name": "stdout",
     "output_type": "stream",
     "text": [
      "--\n"
     ]
    },
    {
     "data": {
      "text/html": [
       "<div class=\"entities\" style=\"line-height: 2.5\">My visit to the Maldives is reflective of the importance we both attach to our relationship as maritime neighbours and longstanding friends said \n",
       "<mark class=\"entity\" style=\"background: #ddd; padding: 0.45em 0.6em; margin: 0 0.25em; line-height: 1; border-radius: 0.35em; box-decoration-break: clone; -webkit-box-decoration-break: clone\">\n",
       "    PM Modi\n",
       "    <span style=\"font-size: 0.8em; font-weight: bold; line-height: 1; border-radius: 0.35em; text-transform: uppercase; vertical-align: middle; margin-left: 0.5rem\">Narendra Modi</span>\n",
       "</mark>\n",
       "</div>"
      ],
      "text/plain": [
       "<IPython.core.display.HTML object>"
      ]
     },
     "metadata": {},
     "output_type": "display_data"
    },
    {
     "name": "stdout",
     "output_type": "stream",
     "text": [
      "--\n"
     ]
    },
    {
     "data": {
      "text/html": [
       "<div class=\"entities\" style=\"line-height: 2.5\">Ahead of his visit to \n",
       "<mark class=\"entity\" style=\"background: #ddd; padding: 0.45em 0.6em; margin: 0 0.25em; line-height: 1; border-radius: 0.35em; box-decoration-break: clone; -webkit-box-decoration-break: clone\">\n",
       "    Sri Lanka\n",
       "    <span style=\"font-size: 0.8em; font-weight: bold; line-height: 1; border-radius: 0.35em; text-transform: uppercase; vertical-align: middle; margin-left: 0.5rem\">Location</span>\n",
       "</mark>\n",
       " \n",
       "<mark class=\"entity\" style=\"background: #ddd; padding: 0.45em 0.6em; margin: 0 0.25em; line-height: 1; border-radius: 0.35em; box-decoration-break: clone; -webkit-box-decoration-break: clone\">\n",
       "    PM Modi\n",
       "    <span style=\"font-size: 0.8em; font-weight: bold; line-height: 1; border-radius: 0.35em; text-transform: uppercase; vertical-align: middle; margin-left: 0.5rem\">Narendra Modi</span>\n",
       "</mark>\n",
       " has made it clear that India stands with \n",
       "<mark class=\"entity\" style=\"background: #ddd; padding: 0.45em 0.6em; margin: 0 0.25em; line-height: 1; border-radius: 0.35em; box-decoration-break: clone; -webkit-box-decoration-break: clone\">\n",
       "    Sri Lanka\n",
       "    <span style=\"font-size: 0.8em; font-weight: bold; line-height: 1; border-radius: 0.35em; text-transform: uppercase; vertical-align: middle; margin-left: 0.5rem\">Location</span>\n",
       "</mark>\n",
       " in fighting terrorism in the wake of the attack on April 21 2019</div>"
      ],
      "text/plain": [
       "<IPython.core.display.HTML object>"
      ]
     },
     "metadata": {},
     "output_type": "display_data"
    },
    {
     "name": "stdout",
     "output_type": "stream",
     "text": [
      "--\n"
     ]
    },
    {
     "data": {
      "text/html": [
       "<div class=\"entities\" style=\"line-height: 2.5\">\n",
       "<mark class=\"entity\" style=\"background: #ddd; padding: 0.45em 0.6em; margin: 0 0.25em; line-height: 1; border-radius: 0.35em; box-decoration-break: clone; -webkit-box-decoration-break: clone\">\n",
       "    India\n",
       "    <span style=\"font-size: 0.8em; font-weight: bold; line-height: 1; border-radius: 0.35em; text-transform: uppercase; vertical-align: middle; margin-left: 0.5rem\">Location</span>\n",
       "</mark>\n",
       " stands with \n",
       "<mark class=\"entity\" style=\"background: #ddd; padding: 0.45em 0.6em; margin: 0 0.25em; line-height: 1; border-radius: 0.35em; box-decoration-break: clone; -webkit-box-decoration-break: clone\">\n",
       "    Sri Lanka\n",
       "    <span style=\"font-size: 0.8em; font-weight: bold; line-height: 1; border-radius: 0.35em; text-transform: uppercase; vertical-align: middle; margin-left: 0.5rem\">Location</span>\n",
       "</mark>\n",
       " in the fight against terrorism Modi said</div>"
      ],
      "text/plain": [
       "<IPython.core.display.HTML object>"
      ]
     },
     "metadata": {},
     "output_type": "display_data"
    },
    {
     "name": "stdout",
     "output_type": "stream",
     "text": [
      "--\n"
     ]
    },
    {
     "data": {
      "text/html": [
       "<div class=\"entities\" style=\"line-height: 2.5\">\n",
       "<mark class=\"entity\" style=\"background: #ddd; padding: 0.45em 0.6em; margin: 0 0.25em; line-height: 1; border-radius: 0.35em; box-decoration-break: clone; -webkit-box-decoration-break: clone\">\n",
       "    PM Modi\n",
       "    <span style=\"font-size: 0.8em; font-weight: bold; line-height: 1; border-radius: 0.35em; text-transform: uppercase; vertical-align: middle; margin-left: 0.5rem\">Narendra Modi</span>\n",
       "</mark>\n",
       " explained that bilateral relations with \n",
       "<mark class=\"entity\" style=\"background: #ddd; padding: 0.45em 0.6em; margin: 0 0.25em; line-height: 1; border-radius: 0.35em; box-decoration-break: clone; -webkit-box-decoration-break: clone\">\n",
       "    Sri Lanka\n",
       "    <span style=\"font-size: 0.8em; font-weight: bold; line-height: 1; border-radius: 0.35em; text-transform: uppercase; vertical-align: middle; margin-left: 0.5rem\">Location</span>\n",
       "</mark>\n",
       " have gained considerable momentum over the last few years</div>"
      ],
      "text/plain": [
       "<IPython.core.display.HTML object>"
      ]
     },
     "metadata": {},
     "output_type": "display_data"
    },
    {
     "name": "stdout",
     "output_type": "stream",
     "text": [
      "--\n"
     ]
    },
    {
     "data": {
      "text/html": [
       "<div class=\"entities\" style=\"line-height: 2.5\">\n",
       "<mark class=\"entity\" style=\"background: #aa9cfc; padding: 0.45em 0.6em; margin: 0 0.25em; line-height: 1; border-radius: 0.35em; box-decoration-break: clone; -webkit-box-decoration-break: clone\">\n",
       "    Rahul Gandhi\n",
       "    <span style=\"font-size: 0.8em; font-weight: bold; line-height: 1; border-radius: 0.35em; text-transform: uppercase; vertical-align: middle; margin-left: 0.5rem\">Person</span>\n",
       "</mark>\n",
       " is on a thanksgiving tour in Wayanad at the same time as \n",
       "<mark class=\"entity\" style=\"background: #ddd; padding: 0.45em 0.6em; margin: 0 0.25em; line-height: 1; border-radius: 0.35em; box-decoration-break: clone; -webkit-box-decoration-break: clone\">\n",
       "    Prime Minister Narendra Modi\n",
       "    <span style=\"font-size: 0.8em; font-weight: bold; line-height: 1; border-radius: 0.35em; text-transform: uppercase; vertical-align: middle; margin-left: 0.5rem\">Narendra Modi</span>\n",
       "</mark>\n",
       " visits the state to offer prayers at a temple in Guruvayur</div>"
      ],
      "text/plain": [
       "<IPython.core.display.HTML object>"
      ]
     },
     "metadata": {},
     "output_type": "display_data"
    },
    {
     "name": "stdout",
     "output_type": "stream",
     "text": [
      "--\n"
     ]
    },
    {
     "data": {
      "text/html": [
       "<div class=\"entities\" style=\"line-height: 2.5\">He once again attacked \n",
       "<mark class=\"entity\" style=\"background: #ddd; padding: 0.45em 0.6em; margin: 0 0.25em; line-height: 1; border-radius: 0.35em; box-decoration-break: clone; -webkit-box-decoration-break: clone\">\n",
       "    PM Modi\n",
       "    <span style=\"font-size: 0.8em; font-weight: bold; line-height: 1; border-radius: 0.35em; text-transform: uppercase; vertical-align: middle; margin-left: 0.5rem\">Narendra Modi</span>\n",
       "</mark>\n",
       " on Saturday and said At the national level were fighting poison</div>"
      ],
      "text/plain": [
       "<IPython.core.display.HTML object>"
      ]
     },
     "metadata": {},
     "output_type": "display_data"
    },
    {
     "name": "stdout",
     "output_type": "stream",
     "text": [
      "--\n"
     ]
    },
    {
     "data": {
      "text/html": [
       "<div class=\"entities\" style=\"line-height: 2.5\">\n",
       "<mark class=\"entity\" style=\"background: #ddd; padding: 0.45em 0.6em; margin: 0 0.25em; line-height: 1; border-radius: 0.35em; box-decoration-break: clone; -webkit-box-decoration-break: clone\">\n",
       "    Mr Narendra Modi\n",
       "    <span style=\"font-size: 0.8em; font-weight: bold; line-height: 1; border-radius: 0.35em; text-transform: uppercase; vertical-align: middle; margin-left: 0.5rem\">Narendra Modi</span>\n",
       "</mark>\n",
       " uses poison Im using a strong word but \n",
       "<mark class=\"entity\" style=\"background: #ddd; padding: 0.45em 0.6em; margin: 0 0.25em; line-height: 1; border-radius: 0.35em; box-decoration-break: clone; -webkit-box-decoration-break: clone\">\n",
       "    Mr Narendra Modi\n",
       "    <span style=\"font-size: 0.8em; font-weight: bold; line-height: 1; border-radius: 0.35em; text-transform: uppercase; vertical-align: middle; margin-left: 0.5rem\">Narendra Modi</span>\n",
       "</mark>\n",
       " uses poison of hatred to divide this country</div>"
      ],
      "text/plain": [
       "<IPython.core.display.HTML object>"
      ]
     },
     "metadata": {},
     "output_type": "display_data"
    },
    {
     "name": "stdout",
     "output_type": "stream",
     "text": [
      "--\n"
     ]
    },
    {
     "data": {
      "text/html": [
       "<div class=\"entities\" style=\"line-height: 2.5\">He said We will continue to fight \n",
       "<mark class=\"entity\" style=\"background: #ddd; padding: 0.45em 0.6em; margin: 0 0.25em; line-height: 1; border-radius: 0.35em; box-decoration-break: clone; -webkit-box-decoration-break: clone\">\n",
       "    Narendra Modi\n",
       "    <span style=\"font-size: 0.8em; font-weight: bold; line-height: 1; border-radius: 0.35em; text-transform: uppercase; vertical-align: middle; margin-left: 0.5rem\">Narendra Modi</span>\n",
       "</mark>\n",
       " and his hate with love</div>"
      ],
      "text/plain": [
       "<IPython.core.display.HTML object>"
      ]
     },
     "metadata": {},
     "output_type": "display_data"
    },
    {
     "name": "stdout",
     "output_type": "stream",
     "text": [
      "--\n"
     ]
    },
    {
     "name": "stderr",
     "output_type": "stream",
     "text": [
      "E:\\Anaconda3\\lib\\runpy.py:193: UserWarning: [W006] No entities to visualize found in Doc object. If this is surprising to you, make sure the Doc was processed using a model that supports named entity recognition, and check the `doc.ents` property manually if necessary.\n",
      "  \"__main__\", mod_spec)\n"
     ]
    },
    {
     "data": {
      "text/html": [
       "<div class=\"entities\" style=\"line-height: 2.5\">Modi uses the poison of hatred to run his campaign</div>"
      ],
      "text/plain": [
       "<IPython.core.display.HTML object>"
      ]
     },
     "metadata": {},
     "output_type": "display_data"
    },
    {
     "name": "stdout",
     "output_type": "stream",
     "text": [
      "--\n"
     ]
    },
    {
     "data": {
      "text/html": [
       "<div class=\"entities\" style=\"line-height: 2.5\">We will continue to fight \n",
       "<mark class=\"entity\" style=\"background: #ddd; padding: 0.45em 0.6em; margin: 0 0.25em; line-height: 1; border-radius: 0.35em; box-decoration-break: clone; -webkit-box-decoration-break: clone\">\n",
       "    Narendra Modi\n",
       "    <span style=\"font-size: 0.8em; font-weight: bold; line-height: 1; border-radius: 0.35em; text-transform: uppercase; vertical-align: middle; margin-left: 0.5rem\">Narendra Modi</span>\n",
       "</mark>\n",
       " and his hate with love said Rahul Gandhi in Wayanad on the second day of his tour</div>"
      ],
      "text/plain": [
       "<IPython.core.display.HTML object>"
      ]
     },
     "metadata": {},
     "output_type": "display_data"
    },
    {
     "name": "stdout",
     "output_type": "stream",
     "text": [
      "--\n"
     ]
    },
    {
     "data": {
      "text/html": [
       "<div class=\"entities\" style=\"line-height: 2.5\">\n",
       "<mark class=\"entity\" style=\"background: #ddd; padding: 0.45em 0.6em; margin: 0 0.25em; line-height: 1; border-radius: 0.35em; box-decoration-break: clone; -webkit-box-decoration-break: clone\">\n",
       "    Meanwhile PM Modi\n",
       "    <span style=\"font-size: 0.8em; font-weight: bold; line-height: 1; border-radius: 0.35em; text-transform: uppercase; vertical-align: middle; margin-left: 0.5rem\">Narendra Modi</span>\n",
       "</mark>\n",
       " offered prayers at the Sri Krishna temple in Guruvayur on Saturday morning</div>"
      ],
      "text/plain": [
       "<IPython.core.display.HTML object>"
      ]
     },
     "metadata": {},
     "output_type": "display_data"
    },
    {
     "name": "stdout",
     "output_type": "stream",
     "text": [
      "--\n"
     ]
    },
    {
     "data": {
      "text/html": [
       "<div class=\"entities\" style=\"line-height: 2.5\">Addressing a public meeting \n",
       "<mark class=\"entity\" style=\"background: #ddd; padding: 0.45em 0.6em; margin: 0 0.25em; line-height: 1; border-radius: 0.35em; box-decoration-break: clone; -webkit-box-decoration-break: clone\">\n",
       "    PM Modi\n",
       "    <span style=\"font-size: 0.8em; font-weight: bold; line-height: 1; border-radius: 0.35em; text-transform: uppercase; vertical-align: middle; margin-left: 0.5rem\">Narendra Modi</span>\n",
       "</mark>\n",
       " said that people wonder why he is visiting Kerala even when the state didn vote for him</div>"
      ],
      "text/plain": [
       "<IPython.core.display.HTML object>"
      ]
     },
     "metadata": {},
     "output_type": "display_data"
    },
    {
     "name": "stdout",
     "output_type": "stream",
     "text": [
      "--\n"
     ]
    },
    {
     "data": {
      "text/html": [
       "<div class=\"entities\" style=\"line-height: 2.5\">Some pundits think that BJP could not open its account in \n",
       "<mark class=\"entity\" style=\"background: #ddd; padding: 0.45em 0.6em; margin: 0 0.25em; line-height: 1; border-radius: 0.35em; box-decoration-break: clone; -webkit-box-decoration-break: clone\">\n",
       "    Kerala\n",
       "    <span style=\"font-size: 0.8em; font-weight: bold; line-height: 1; border-radius: 0.35em; text-transform: uppercase; vertical-align: middle; margin-left: 0.5rem\">Location</span>\n",
       "</mark>\n",
       " but \n",
       "<mark class=\"entity\" style=\"background: #ddd; padding: 0.45em 0.6em; margin: 0 0.25em; line-height: 1; border-radius: 0.35em; box-decoration-break: clone; -webkit-box-decoration-break: clone\">\n",
       "    Modi\n",
       "    <span style=\"font-size: 0.8em; font-weight: bold; line-height: 1; border-radius: 0.35em; text-transform: uppercase; vertical-align: middle; margin-left: 0.5rem\">Narendra Modi</span>\n",
       "</mark>\n",
       " is going there to thank people</div>"
      ],
      "text/plain": [
       "<IPython.core.display.HTML object>"
      ]
     },
     "metadata": {},
     "output_type": "display_data"
    },
    {
     "name": "stdout",
     "output_type": "stream",
     "text": [
      "--\n"
     ]
    },
    {
     "data": {
      "text/html": [
       "<div class=\"entities\" style=\"line-height: 2.5\">What is in his mind? But this is our culture our thinking said \n",
       "<mark class=\"entity\" style=\"background: #ddd; padding: 0.45em 0.6em; margin: 0 0.25em; line-height: 1; border-radius: 0.35em; box-decoration-break: clone; -webkit-box-decoration-break: clone\">\n",
       "    PM Modi\n",
       "    <span style=\"font-size: 0.8em; font-weight: bold; line-height: 1; border-radius: 0.35em; text-transform: uppercase; vertical-align: middle; margin-left: 0.5rem\">Narendra Modi</span>\n",
       "</mark>\n",
       "</div>"
      ],
      "text/plain": [
       "<IPython.core.display.HTML object>"
      ]
     },
     "metadata": {},
     "output_type": "display_data"
    },
    {
     "name": "stdout",
     "output_type": "stream",
     "text": [
      "--\n"
     ]
    },
    {
     "data": {
      "text/html": [
       "<div class=\"entities\" style=\"line-height: 2.5\">\n",
       "<mark class=\"entity\" style=\"background: #ddd; padding: 0.45em 0.6em; margin: 0 0.25em; line-height: 1; border-radius: 0.35em; box-decoration-break: clone; -webkit-box-decoration-break: clone\">\n",
       "    PM Modi\n",
       "    <span style=\"font-size: 0.8em; font-weight: bold; line-height: 1; border-radius: 0.35em; text-transform: uppercase; vertical-align: middle; margin-left: 0.5rem\">Narendra Modi</span>\n",
       "</mark>\n",
       " also vowed to provide all kinds of support to \n",
       "<mark class=\"entity\" style=\"background: #ddd; padding: 0.45em 0.6em; margin: 0 0.25em; line-height: 1; border-radius: 0.35em; box-decoration-break: clone; -webkit-box-decoration-break: clone\">\n",
       "    Kerala\n",
       "    <span style=\"font-size: 0.8em; font-weight: bold; line-height: 1; border-radius: 0.35em; text-transform: uppercase; vertical-align: middle; margin-left: 0.5rem\">Location</span>\n",
       "</mark>\n",
       " to deal with the Nipah virus crisis after a case was detected recently</div>"
      ],
      "text/plain": [
       "<IPython.core.display.HTML object>"
      ]
     },
     "metadata": {},
     "output_type": "display_data"
    },
    {
     "name": "stdout",
     "output_type": "stream",
     "text": [
      "--\n"
     ]
    }
   ],
   "source": [
    "for i in range(0,30):\n",
    "    try:        \n",
    "        testcase = pnlp(TEST_DATA[i][0])\n",
    "        displacy.render(testcase, style='ent', jupyter=True)\n",
    "        print(\"--\")\n",
    "    except:\n",
    "        a=None"
   ]
  },
  {
   "cell_type": "code",
   "execution_count": 34,
   "metadata": {},
   "outputs": [
    {
     "data": {
      "text/plain": [
       "'PM Modi and his officials will be holding talks and inaugurate a few defence projects.\\nPrime Minister Modi landed in the country capital Male where he is expected to hold talks with President Solih.\\nFriendship forever!PM @narendramodi arrives in Male capital of Maldives to a warm reception by Foreign Minister @abdulla_shahid.\\nMaldives is also planning to honour PM Modi with the Order of Nishanizzuddeen a prestigious award in the country.\\n@narendramodi the Maldives highest honour accorded to foreign dignitaries.\\nPrime Minister Modi will also be addressing the Maldives Parliament on Saturday.\\n#WATCH Prime Minister Narendra Modi inspects guard of honour at Republic Square in Male; President of Maldives Ibrahim Mohamed Solih also present.\\ncom/RJ59DGeeoN ANI @ANI June 8 2019Modi is visiting Maldives in his first bilateral visit after retaining power in the Lok Sabha polls.\\nModi has reached the Indian Ocean archipelago in his first bilateral visit after retaining power in the Lok Sabha polls.\\nPrime Minister Narendra Modi arrives at Male Airport.\\nImage ANIPrime Minister Modi Friday said his visit to the Maldives reflects the importance India attaches to its Neighbourhood First policy.\\nModi said India considers the country as a valued partner with whom it shares deep bonds of history and culture.\\nAlso read  PM Narendra Modi says Kerala didn vote for us but it is as much mine as is VaranasiAlso read  Donald Trump says Moon is part of Mars.\\nPM Modi will visit the Maldives on June 8 where he is expected to engage in talks with President Ibrahim Mohamed Solih and strengthen diplomatic ties.\\nOn Friday Modi will address the Parliament of the Maldives.\\nMy visit to the Maldives is reflective of the importance we both attach to our relationship as maritime neighbours and longstanding friends said PM Modi.\\nAhead of his visit to Sri Lanka PM Modi has made it clear that India stands with Sri Lanka in fighting terrorism in the wake of the attack on April 21 2019.\\nIndia stands with Sri Lanka in the fight against terrorism Modi said.\\nPM Modi explained that bilateral relations with Sri Lanka have gained considerable momentum over the last few years.\\nRahul Gandhi is on a thanksgiving tour in Wayanad at the same time as Prime Minister Narendra Modi visits the state to offer prayers at a temple in Guruvayur.\\nHe once again attacked PM Modi on Saturday and said At the national level were fighting poison.\\nMr Narendra Modi uses poison Im using a strong word but Mr Narendra Modi uses poison of hatred to divide this country.\\nHe said We will continue to fight Narendra Modi and his hate with love.\\nModi uses the poison of hatred to run his campaign.\\nWe will continue to fight Narendra Modi and his hate with love said Rahul Gandhi in Wayanad on the second day of his tour.\\nMeanwhile PM Modi offered prayers at the Sri Krishna temple in Guruvayur on Saturday morning.\\nAddressing a public meeting PM Modi said that people wonder why he is visiting Kerala even when the state didn vote for him.\\nSome pundits think that BJP could not open its account in Kerala but Modi is going there to thank people.\\nWhat is in his mind? But this is our culture our thinking said PM Modi.\\nPM Modi also vowed to provide all kinds of support to Kerala to deal with the Nipah virus crisis after a case was detected recently.\\n'"
      ]
     },
     "execution_count": 34,
     "metadata": {},
     "output_type": "execute_result"
    }
   ],
   "source": []
  },
  {
   "cell_type": "code",
   "execution_count": 35,
   "metadata": {},
   "outputs": [
    {
     "data": {
      "text/html": [
       "<div class=\"entities\" style=\"line-height: 2.5\">\n",
       "<mark class=\"entity\" style=\"background: #ddd; padding: 0.45em 0.6em; margin: 0 0.25em; line-height: 1; border-radius: 0.35em; box-decoration-break: clone; -webkit-box-decoration-break: clone\">\n",
       "    PM Modi\n",
       "    <span style=\"font-size: 0.8em; font-weight: bold; line-height: 1; border-radius: 0.35em; text-transform: uppercase; vertical-align: middle; margin-left: 0.5rem\">Narendra Modi</span>\n",
       "</mark>\n",
       " and his officials will be holding talks and inaugurate a few defence projects.</br>Prime Minister Modi landed in the country capital Male where he is expected to hold talks with \n",
       "<mark class=\"entity\" style=\"background: #aa9cfc; padding: 0.45em 0.6em; margin: 0 0.25em; line-height: 1; border-radius: 0.35em; box-decoration-break: clone; -webkit-box-decoration-break: clone\">\n",
       "    President Solih.\n",
       "    <span style=\"font-size: 0.8em; font-weight: bold; line-height: 1; border-radius: 0.35em; text-transform: uppercase; vertical-align: middle; margin-left: 0.5rem\">Person</span>\n",
       "</mark>\n",
       "</br>Friendship \n",
       "<mark class=\"entity\" style=\"background: #ddd; padding: 0.45em 0.6em; margin: 0 0.25em; line-height: 1; border-radius: 0.35em; box-decoration-break: clone; -webkit-box-decoration-break: clone\">\n",
       "    forever!PM @narendramodi\n",
       "    <span style=\"font-size: 0.8em; font-weight: bold; line-height: 1; border-radius: 0.35em; text-transform: uppercase; vertical-align: middle; margin-left: 0.5rem\">Narendra Modi</span>\n",
       "</mark>\n",
       " arrives in Male capital of Maldives to a warm reception by \n",
       "<mark class=\"entity\" style=\"background: #ddd; padding: 0.45em 0.6em; margin: 0 0.25em; line-height: 1; border-radius: 0.35em; box-decoration-break: clone; -webkit-box-decoration-break: clone\">\n",
       "    Foreign Minister @abdulla_shahid\n",
       "    <span style=\"font-size: 0.8em; font-weight: bold; line-height: 1; border-radius: 0.35em; text-transform: uppercase; vertical-align: middle; margin-left: 0.5rem\">Narendra Modi</span>\n",
       "</mark>\n",
       ".</br>Maldives is also planning to honour \n",
       "<mark class=\"entity\" style=\"background: #ddd; padding: 0.45em 0.6em; margin: 0 0.25em; line-height: 1; border-radius: 0.35em; box-decoration-break: clone; -webkit-box-decoration-break: clone\">\n",
       "    PM Modi\n",
       "    <span style=\"font-size: 0.8em; font-weight: bold; line-height: 1; border-radius: 0.35em; text-transform: uppercase; vertical-align: middle; margin-left: 0.5rem\">Narendra Modi</span>\n",
       "</mark>\n",
       " with the Order of Nishanizzuddeen a prestigious award in the country.</br>@narendramodi the Maldives highest honour accorded to foreign dignitaries.</br>Prime Minister Modi will also be addressing the Maldives Parliament on Saturday.</br>#WATCH \n",
       "<mark class=\"entity\" style=\"background: #ddd; padding: 0.45em 0.6em; margin: 0 0.25em; line-height: 1; border-radius: 0.35em; box-decoration-break: clone; -webkit-box-decoration-break: clone\">\n",
       "    Prime Minister Narendra Modi\n",
       "    <span style=\"font-size: 0.8em; font-weight: bold; line-height: 1; border-radius: 0.35em; text-transform: uppercase; vertical-align: middle; margin-left: 0.5rem\">Narendra Modi</span>\n",
       "</mark>\n",
       " inspects guard of honour at Republic Square in Male; President of Maldives Ibrahim Mohamed Solih also present.</br>com/RJ59DGeeoN ANI @ANI June 8 2019Modi is visiting Maldives in his first bilateral visit after retaining power in the Lok Sabha polls.</br>Modi has reached the Indian Ocean archipelago in his first bilateral visit after retaining power in the Lok Sabha polls.</br>Prime Minister Narendra Modi arrives at Male Airport.</br>Image ANIPrime Minister Modi Friday said his visit to the Maldives reflects the importance India attaches to its Neighbourhood First policy.</br>Modi said India considers the country as a valued partner with whom it shares deep bonds of history and culture.</br>Also read  \n",
       "<mark class=\"entity\" style=\"background: #ddd; padding: 0.45em 0.6em; margin: 0 0.25em; line-height: 1; border-radius: 0.35em; box-decoration-break: clone; -webkit-box-decoration-break: clone\">\n",
       "    PM Narendra Modi\n",
       "    <span style=\"font-size: 0.8em; font-weight: bold; line-height: 1; border-radius: 0.35em; text-transform: uppercase; vertical-align: middle; margin-left: 0.5rem\">Narendra Modi</span>\n",
       "</mark>\n",
       " says Kerala didn vote for us but it is as much mine as is VaranasiAlso read  Donald Trump says Moon is part of Mars.</br>PM Modi will visit the Maldives on June 8 where he is expected to engage in talks with \n",
       "<mark class=\"entity\" style=\"background: #aa9cfc; padding: 0.45em 0.6em; margin: 0 0.25em; line-height: 1; border-radius: 0.35em; box-decoration-break: clone; -webkit-box-decoration-break: clone\">\n",
       "    President Ibrahim Mohamed Solih\n",
       "    <span style=\"font-size: 0.8em; font-weight: bold; line-height: 1; border-radius: 0.35em; text-transform: uppercase; vertical-align: middle; margin-left: 0.5rem\">Person</span>\n",
       "</mark>\n",
       " and strengthen diplomatic ties.</br>On Friday Modi will address the Parliament of the Maldives.</br>My visit to the Maldives is reflective of the importance we both attach to our relationship as maritime neighbours and longstanding friends said \n",
       "<mark class=\"entity\" style=\"background: #ddd; padding: 0.45em 0.6em; margin: 0 0.25em; line-height: 1; border-radius: 0.35em; box-decoration-break: clone; -webkit-box-decoration-break: clone\">\n",
       "    PM Modi\n",
       "    <span style=\"font-size: 0.8em; font-weight: bold; line-height: 1; border-radius: 0.35em; text-transform: uppercase; vertical-align: middle; margin-left: 0.5rem\">Narendra Modi</span>\n",
       "</mark>\n",
       ".</br>Ahead of his visit to \n",
       "<mark class=\"entity\" style=\"background: #ddd; padding: 0.45em 0.6em; margin: 0 0.25em; line-height: 1; border-radius: 0.35em; box-decoration-break: clone; -webkit-box-decoration-break: clone\">\n",
       "    Sri\n",
       "    <span style=\"font-size: 0.8em; font-weight: bold; line-height: 1; border-radius: 0.35em; text-transform: uppercase; vertical-align: middle; margin-left: 0.5rem\">Location</span>\n",
       "</mark>\n",
       " Lanka \n",
       "<mark class=\"entity\" style=\"background: #ddd; padding: 0.45em 0.6em; margin: 0 0.25em; line-height: 1; border-radius: 0.35em; box-decoration-break: clone; -webkit-box-decoration-break: clone\">\n",
       "    PM Modi\n",
       "    <span style=\"font-size: 0.8em; font-weight: bold; line-height: 1; border-radius: 0.35em; text-transform: uppercase; vertical-align: middle; margin-left: 0.5rem\">Narendra Modi</span>\n",
       "</mark>\n",
       " has made it clear that India stands with \n",
       "<mark class=\"entity\" style=\"background: #ddd; padding: 0.45em 0.6em; margin: 0 0.25em; line-height: 1; border-radius: 0.35em; box-decoration-break: clone; -webkit-box-decoration-break: clone\">\n",
       "    Sri Lanka\n",
       "    <span style=\"font-size: 0.8em; font-weight: bold; line-height: 1; border-radius: 0.35em; text-transform: uppercase; vertical-align: middle; margin-left: 0.5rem\">Location</span>\n",
       "</mark>\n",
       " in fighting terrorism in the wake of the attack on April 21 2019.</br>India stands with \n",
       "<mark class=\"entity\" style=\"background: #aa9cfc; padding: 0.45em 0.6em; margin: 0 0.25em; line-height: 1; border-radius: 0.35em; box-decoration-break: clone; -webkit-box-decoration-break: clone\">\n",
       "    Sri\n",
       "    <span style=\"font-size: 0.8em; font-weight: bold; line-height: 1; border-radius: 0.35em; text-transform: uppercase; vertical-align: middle; margin-left: 0.5rem\">Person</span>\n",
       "</mark>\n",
       " Lanka in the fight against terrorism Modi said.</br>\n",
       "<mark class=\"entity\" style=\"background: #ddd; padding: 0.45em 0.6em; margin: 0 0.25em; line-height: 1; border-radius: 0.35em; box-decoration-break: clone; -webkit-box-decoration-break: clone\">\n",
       "    PM Modi\n",
       "    <span style=\"font-size: 0.8em; font-weight: bold; line-height: 1; border-radius: 0.35em; text-transform: uppercase; vertical-align: middle; margin-left: 0.5rem\">Narendra Modi</span>\n",
       "</mark>\n",
       " explained that bilateral relations with \n",
       "<mark class=\"entity\" style=\"background: #ddd; padding: 0.45em 0.6em; margin: 0 0.25em; line-height: 1; border-radius: 0.35em; box-decoration-break: clone; -webkit-box-decoration-break: clone\">\n",
       "    Sri Lanka\n",
       "    <span style=\"font-size: 0.8em; font-weight: bold; line-height: 1; border-radius: 0.35em; text-transform: uppercase; vertical-align: middle; margin-left: 0.5rem\">Location</span>\n",
       "</mark>\n",
       " have gained considerable momentum over the last few years.</br>Rahul Gandhi is on a thanksgiving tour in Wayanad at the same time as \n",
       "<mark class=\"entity\" style=\"background: #ddd; padding: 0.45em 0.6em; margin: 0 0.25em; line-height: 1; border-radius: 0.35em; box-decoration-break: clone; -webkit-box-decoration-break: clone\">\n",
       "    Prime Minister Narendra Modi\n",
       "    <span style=\"font-size: 0.8em; font-weight: bold; line-height: 1; border-radius: 0.35em; text-transform: uppercase; vertical-align: middle; margin-left: 0.5rem\">Narendra Modi</span>\n",
       "</mark>\n",
       " visits the state to offer prayers at a temple in Guruvayur.</br>He once again attacked \n",
       "<mark class=\"entity\" style=\"background: #ddd; padding: 0.45em 0.6em; margin: 0 0.25em; line-height: 1; border-radius: 0.35em; box-decoration-break: clone; -webkit-box-decoration-break: clone\">\n",
       "    PM Modi\n",
       "    <span style=\"font-size: 0.8em; font-weight: bold; line-height: 1; border-radius: 0.35em; text-transform: uppercase; vertical-align: middle; margin-left: 0.5rem\">Narendra Modi</span>\n",
       "</mark>\n",
       " on Saturday and said At the national level were fighting poison.</br>Mr Narendra Modi uses poison Im using a strong word but Mr Narendra Modi uses poison of hatred to divide this country.</br>He said We will continue to fight \n",
       "<mark class=\"entity\" style=\"background: #ddd; padding: 0.45em 0.6em; margin: 0 0.25em; line-height: 1; border-radius: 0.35em; box-decoration-break: clone; -webkit-box-decoration-break: clone\">\n",
       "    Narendra Modi\n",
       "    <span style=\"font-size: 0.8em; font-weight: bold; line-height: 1; border-radius: 0.35em; text-transform: uppercase; vertical-align: middle; margin-left: 0.5rem\">Narendra Modi</span>\n",
       "</mark>\n",
       " and his hate with love.</br>Modi uses the poison of hatred to run his campaign.</br>We will continue to fight \n",
       "<mark class=\"entity\" style=\"background: #ddd; padding: 0.45em 0.6em; margin: 0 0.25em; line-height: 1; border-radius: 0.35em; box-decoration-break: clone; -webkit-box-decoration-break: clone\">\n",
       "    Narendra Modi\n",
       "    <span style=\"font-size: 0.8em; font-weight: bold; line-height: 1; border-radius: 0.35em; text-transform: uppercase; vertical-align: middle; margin-left: 0.5rem\">Narendra Modi</span>\n",
       "</mark>\n",
       " and his hate with love said Rahul Gandhi in Wayanad on the second day of his tour.</br>Meanwhile \n",
       "<mark class=\"entity\" style=\"background: #ddd; padding: 0.45em 0.6em; margin: 0 0.25em; line-height: 1; border-radius: 0.35em; box-decoration-break: clone; -webkit-box-decoration-break: clone\">\n",
       "    PM Modi\n",
       "    <span style=\"font-size: 0.8em; font-weight: bold; line-height: 1; border-radius: 0.35em; text-transform: uppercase; vertical-align: middle; margin-left: 0.5rem\">Narendra Modi</span>\n",
       "</mark>\n",
       " offered prayers at the Sri Krishna temple in Guruvayur on Saturday morning.</br>Addressing a public meeting \n",
       "<mark class=\"entity\" style=\"background: #ddd; padding: 0.45em 0.6em; margin: 0 0.25em; line-height: 1; border-radius: 0.35em; box-decoration-break: clone; -webkit-box-decoration-break: clone\">\n",
       "    PM Modi\n",
       "    <span style=\"font-size: 0.8em; font-weight: bold; line-height: 1; border-radius: 0.35em; text-transform: uppercase; vertical-align: middle; margin-left: 0.5rem\">Narendra Modi</span>\n",
       "</mark>\n",
       " said that people wonder why he is visiting Kerala even when the state didn vote for him.</br>Some pundits think that BJP could not open its account in Kerala but \n",
       "<mark class=\"entity\" style=\"background: #ddd; padding: 0.45em 0.6em; margin: 0 0.25em; line-height: 1; border-radius: 0.35em; box-decoration-break: clone; -webkit-box-decoration-break: clone\">\n",
       "    Modi\n",
       "    <span style=\"font-size: 0.8em; font-weight: bold; line-height: 1; border-radius: 0.35em; text-transform: uppercase; vertical-align: middle; margin-left: 0.5rem\">Narendra Modi</span>\n",
       "</mark>\n",
       " is going there to thank people.</br>What is in his mind? But this is our culture our thinking said \n",
       "<mark class=\"entity\" style=\"background: #ddd; padding: 0.45em 0.6em; margin: 0 0.25em; line-height: 1; border-radius: 0.35em; box-decoration-break: clone; -webkit-box-decoration-break: clone\">\n",
       "    PM Modi\n",
       "    <span style=\"font-size: 0.8em; font-weight: bold; line-height: 1; border-radius: 0.35em; text-transform: uppercase; vertical-align: middle; margin-left: 0.5rem\">Narendra Modi</span>\n",
       "</mark>\n",
       ".</br>PM Modi also vowed to provide all kinds of support to \n",
       "<mark class=\"entity\" style=\"background: #ddd; padding: 0.45em 0.6em; margin: 0 0.25em; line-height: 1; border-radius: 0.35em; box-decoration-break: clone; -webkit-box-decoration-break: clone\">\n",
       "    Kerala\n",
       "    <span style=\"font-size: 0.8em; font-weight: bold; line-height: 1; border-radius: 0.35em; text-transform: uppercase; vertical-align: middle; margin-left: 0.5rem\">Location</span>\n",
       "</mark>\n",
       " to deal with the Nipah virus crisis after a case was detected recently.\n",
       "</div>"
      ],
      "text/plain": [
       "<IPython.core.display.HTML object>"
      ]
     },
     "metadata": {},
     "output_type": "display_data"
    }
   ],
   "source": []
  },
  {
   "cell_type": "code",
   "execution_count": null,
   "metadata": {},
   "outputs": [],
   "source": [
    "trainstring = TRAIN_DATA[0][0]"
   ]
  },
  {
   "cell_type": "code",
   "execution_count": 38,
   "metadata": {},
   "outputs": [
    {
     "data": {
      "text/html": [
       "<div class=\"entities\" style=\"line-height: 2.5\">\n",
       "<mark class=\"entity\" style=\"background: #aa9cfc; padding: 0.45em 0.6em; margin: 0 0.25em; line-height: 1; border-radius: 0.35em; box-decoration-break: clone; -webkit-box-decoration-break: clone\">\n",
       "    Gujarmal Modi\n",
       "    <span style=\"font-size: 0.8em; font-weight: bold; line-height: 1; border-radius: 0.35em; text-transform: uppercase; vertical-align: middle; margin-left: 0.5rem\">Person</span>\n",
       "</mark>\n",
       " 9 August 1902  22 January 1976 was an Indian industrialist and philanthropist, who co-established the Modi Group of companies and the industrial city of \n",
       "<mark class=\"entity\" style=\"background: #ddd; padding: 0.45em 0.6em; margin: 0 0.25em; line-height: 1; border-radius: 0.35em; box-decoration-break: clone; -webkit-box-decoration-break: clone\">\n",
       "    Modinagar\n",
       "    <span style=\"font-size: 0.8em; font-weight: bold; line-height: 1; border-radius: 0.35em; text-transform: uppercase; vertical-align: middle; margin-left: 0.5rem\">Location</span>\n",
       "</mark>\n",
       " in 1933, along with his brother \n",
       "<mark class=\"entity\" style=\"background: #aa9cfc; padding: 0.45em 0.6em; margin: 0 0.25em; line-height: 1; border-radius: 0.35em; box-decoration-break: clone; -webkit-box-decoration-break: clone\">\n",
       "    Kedar Nath Modi\n",
       "    <span style=\"font-size: 0.8em; font-weight: bold; line-height: 1; border-radius: 0.35em; text-transform: uppercase; vertical-align: middle; margin-left: 0.5rem\">Person</span>\n",
       "</mark>\n",
       "</div>"
      ],
      "text/plain": [
       "<IPython.core.display.HTML object>"
      ]
     },
     "metadata": {},
     "output_type": "display_data"
    },
    {
     "name": "stdout",
     "output_type": "stream",
     "text": [
      "--\n"
     ]
    },
    {
     "data": {
      "text/html": [
       "<div class=\"entities\" style=\"line-height: 2.5\">1 A sugar mill in \n",
       "<mark class=\"entity\" style=\"background: #ddd; padding: 0.45em 0.6em; margin: 0 0.25em; line-height: 1; border-radius: 0.35em; box-decoration-break: clone; -webkit-box-decoration-break: clone\">\n",
       "    Modinagar\n",
       "    <span style=\"font-size: 0.8em; font-weight: bold; line-height: 1; border-radius: 0.35em; text-transform: uppercase; vertical-align: middle; margin-left: 0.5rem\">Location</span>\n",
       "</mark>\n",
       " marked the beginning of the Modi Group conglomerate, which later diversified into varied fields</div>"
      ],
      "text/plain": [
       "<IPython.core.display.HTML object>"
      ]
     },
     "metadata": {},
     "output_type": "display_data"
    },
    {
     "name": "stdout",
     "output_type": "stream",
     "text": [
      "--\n"
     ]
    },
    {
     "data": {
      "text/html": [
       "<div class=\"entities\" style=\"line-height: 2.5\">\n",
       "<mark class=\"entity\" style=\"background: #aa9cfc; padding: 0.45em 0.6em; margin: 0 0.25em; line-height: 1; border-radius: 0.35em; box-decoration-break: clone; -webkit-box-decoration-break: clone\">\n",
       "    GM Modi\n",
       "    <span style=\"font-size: 0.8em; font-weight: bold; line-height: 1; border-radius: 0.35em; text-transform: uppercase; vertical-align: middle; margin-left: 0.5rem\">Person</span>\n",
       "</mark>\n",
       " established schools and colleges at his birthplace, \n",
       "<mark class=\"entity\" style=\"background: #ddd; padding: 0.45em 0.6em; margin: 0 0.25em; line-height: 1; border-radius: 0.35em; box-decoration-break: clone; -webkit-box-decoration-break: clone\">\n",
       "    Mahendragarh\n",
       "    <span style=\"font-size: 0.8em; font-weight: bold; line-height: 1; border-radius: 0.35em; text-transform: uppercase; vertical-align: middle; margin-left: 0.5rem\">Location</span>\n",
       "</mark>\n",
       ", in \n",
       "<mark class=\"entity\" style=\"background: #ddd; padding: 0.45em 0.6em; margin: 0 0.25em; line-height: 1; border-radius: 0.35em; box-decoration-break: clone; -webkit-box-decoration-break: clone\">\n",
       "    Patiala\n",
       "    <span style=\"font-size: 0.8em; font-weight: bold; line-height: 1; border-radius: 0.35em; text-transform: uppercase; vertical-align: middle; margin-left: 0.5rem\">Location</span>\n",
       "</mark>\n",
       " and in \n",
       "<mark class=\"entity\" style=\"background: #ddd; padding: 0.45em 0.6em; margin: 0 0.25em; line-height: 1; border-radius: 0.35em; box-decoration-break: clone; -webkit-box-decoration-break: clone\">\n",
       "    Modinagar\n",
       "    <span style=\"font-size: 0.8em; font-weight: bold; line-height: 1; border-radius: 0.35em; text-transform: uppercase; vertical-align: middle; margin-left: 0.5rem\">Location</span>\n",
       "</mark>\n",
       "</div>"
      ],
      "text/plain": [
       "<IPython.core.display.HTML object>"
      ]
     },
     "metadata": {},
     "output_type": "display_data"
    },
    {
     "name": "stdout",
     "output_type": "stream",
     "text": [
      "--\n"
     ]
    },
    {
     "data": {
      "text/html": [
       "<div class=\"entities\" style=\"line-height: 2.5\">“\n",
       "<mark class=\"entity\" style=\"background: #ddd; padding: 0.45em 0.6em; margin: 0 0.25em; line-height: 1; border-radius: 0.35em; box-decoration-break: clone; -webkit-box-decoration-break: clone\">\n",
       "    Narendra Modi\n",
       "    <span style=\"font-size: 0.8em; font-weight: bold; line-height: 1; border-radius: 0.35em; text-transform: uppercase; vertical-align: middle; margin-left: 0.5rem\">Narendra Modi</span>\n",
       "</mark>\n",
       " is forcing a war between India and \n",
       "<mark class=\"entity\" style=\"background: #ddd; padding: 0.45em 0.6em; margin: 0 0.25em; line-height: 1; border-radius: 0.35em; box-decoration-break: clone; -webkit-box-decoration-break: clone\">\n",
       "    Pakistan\n",
       "    <span style=\"font-size: 0.8em; font-weight: bold; line-height: 1; border-radius: 0.35em; text-transform: uppercase; vertical-align: middle; margin-left: 0.5rem\">Location</span>\n",
       "</mark>\n",
       " for his own political gains”</div>"
      ],
      "text/plain": [
       "<IPython.core.display.HTML object>"
      ]
     },
     "metadata": {},
     "output_type": "display_data"
    },
    {
     "name": "stdout",
     "output_type": "stream",
     "text": [
      "--\n"
     ]
    },
    {
     "data": {
      "text/html": [
       "<div class=\"entities\" style=\"line-height: 2.5\">But now that \n",
       "<mark class=\"entity\" style=\"background: #ddd; padding: 0.45em 0.6em; margin: 0 0.25em; line-height: 1; border-radius: 0.35em; box-decoration-break: clone; -webkit-box-decoration-break: clone\">\n",
       "    Narendra Modi\n",
       "    <span style=\"font-size: 0.8em; font-weight: bold; line-height: 1; border-radius: 0.35em; text-transform: uppercase; vertical-align: middle; margin-left: 0.5rem\">Narendra Modi</span>\n",
       "</mark>\n",
       " is setting a new trend, by retaliating every time an attack is done on India , they cannot understand why is \n",
       "<mark class=\"entity\" style=\"background: #ddd; padding: 0.45em 0.6em; margin: 0 0.25em; line-height: 1; border-radius: 0.35em; box-decoration-break: clone; -webkit-box-decoration-break: clone\">\n",
       "    Modi\n",
       "    <span style=\"font-size: 0.8em; font-weight: bold; line-height: 1; border-radius: 0.35em; text-transform: uppercase; vertical-align: middle; margin-left: 0.5rem\">Narendra Modi</span>\n",
       "</mark>\n",
       " retaliating instead of following the same procedure done by the previous governments, they are stating it as “\n",
       "<mark class=\"entity\" style=\"background: #ddd; padding: 0.45em 0.6em; margin: 0 0.25em; line-height: 1; border-radius: 0.35em; box-decoration-break: clone; -webkit-box-decoration-break: clone\">\n",
       "    Narendra Modi\n",
       "    <span style=\"font-size: 0.8em; font-weight: bold; line-height: 1; border-radius: 0.35em; text-transform: uppercase; vertical-align: middle; margin-left: 0.5rem\">Narendra Modi</span>\n",
       "</mark>\n",
       " is forcing a war between India and \n",
       "<mark class=\"entity\" style=\"background: #ddd; padding: 0.45em 0.6em; margin: 0 0.25em; line-height: 1; border-radius: 0.35em; box-decoration-break: clone; -webkit-box-decoration-break: clone\">\n",
       "    Pakistan\n",
       "    <span style=\"font-size: 0.8em; font-weight: bold; line-height: 1; border-radius: 0.35em; text-transform: uppercase; vertical-align: middle; margin-left: 0.5rem\">Location</span>\n",
       "</mark>\n",
       " for his own political gains”</div>"
      ],
      "text/plain": [
       "<IPython.core.display.HTML object>"
      ]
     },
     "metadata": {},
     "output_type": "display_data"
    },
    {
     "name": "stdout",
     "output_type": "stream",
     "text": [
      "--\n"
     ]
    },
    {
     "data": {
      "text/html": [
       "<div class=\"entities\" style=\"line-height: 2.5\">And moreover Modi has got nothing to do with the war, he didn’t call for a war, \n",
       "<mark class=\"entity\" style=\"background: #ddd; padding: 0.45em 0.6em; margin: 0 0.25em; line-height: 1; border-radius: 0.35em; box-decoration-break: clone; -webkit-box-decoration-break: clone\">\n",
       "    Pakistan\n",
       "    <span style=\"font-size: 0.8em; font-weight: bold; line-height: 1; border-radius: 0.35em; text-transform: uppercase; vertical-align: middle; margin-left: 0.5rem\">Location</span>\n",
       "</mark>\n",
       " did</div>"
      ],
      "text/plain": [
       "<IPython.core.display.HTML object>"
      ]
     },
     "metadata": {},
     "output_type": "display_data"
    },
    {
     "name": "stdout",
     "output_type": "stream",
     "text": [
      "--\n"
     ]
    },
    {
     "data": {
      "text/html": [
       "<div class=\"entities\" style=\"line-height: 2.5\">Modi didn’t call for the war, all he did is planned to take down terrorist camps in \n",
       "<mark class=\"entity\" style=\"background: #ddd; padding: 0.45em 0.6em; margin: 0 0.25em; line-height: 1; border-radius: 0.35em; box-decoration-break: clone; -webkit-box-decoration-break: clone\">\n",
       "    Balakot\n",
       "    <span style=\"font-size: 0.8em; font-weight: bold; line-height: 1; border-radius: 0.35em; text-transform: uppercase; vertical-align: middle; margin-left: 0.5rem\">Location</span>\n",
       "</mark>\n",
       ", and that’s what every country which feels that “terrorism is a threat to world peace and \n",
       "<mark class=\"entity\" style=\"background: #ddd; padding: 0.45em 0.6em; margin: 0 0.25em; line-height: 1; border-radius: 0.35em; box-decoration-break: clone; -webkit-box-decoration-break: clone\">\n",
       "    Pakistan\n",
       "    <span style=\"font-size: 0.8em; font-weight: bold; line-height: 1; border-radius: 0.35em; text-transform: uppercase; vertical-align: middle; margin-left: 0.5rem\">Location</span>\n",
       "</mark>\n",
       " is inefficient in stopping the terrorism” should do</div>"
      ],
      "text/plain": [
       "<IPython.core.display.HTML object>"
      ]
     },
     "metadata": {},
     "output_type": "display_data"
    },
    {
     "name": "stdout",
     "output_type": "stream",
     "text": [
      "--\n"
     ]
    },
    {
     "data": {
      "text/html": [
       "<div class=\"entities\" style=\"line-height: 2.5\">In the first place \n",
       "<mark class=\"entity\" style=\"background: #ddd; padding: 0.45em 0.6em; margin: 0 0.25em; line-height: 1; border-radius: 0.35em; box-decoration-break: clone; -webkit-box-decoration-break: clone\">\n",
       "    Prime Minister Modi\n",
       "    <span style=\"font-size: 0.8em; font-weight: bold; line-height: 1; border-radius: 0.35em; text-transform: uppercase; vertical-align: middle; margin-left: 0.5rem\">Narendra Modi</span>\n",
       "</mark>\n",
       " is not forcing any war between India and Pakistan, so their wont be any question about political gains</div>"
      ],
      "text/plain": [
       "<IPython.core.display.HTML object>"
      ]
     },
     "metadata": {},
     "output_type": "display_data"
    },
    {
     "name": "stdout",
     "output_type": "stream",
     "text": [
      "--\n"
     ]
    },
    {
     "data": {
      "text/html": [
       "<div class=\"entities\" style=\"line-height: 2.5\">Id totally agree with your statement, and even \n",
       "<mark class=\"entity\" style=\"background: #ddd; padding: 0.45em 0.6em; margin: 0 0.25em; line-height: 1; border-radius: 0.35em; box-decoration-break: clone; -webkit-box-decoration-break: clone\">\n",
       "    PM Modi\n",
       "    <span style=\"font-size: 0.8em; font-weight: bold; line-height: 1; border-radius: 0.35em; text-transform: uppercase; vertical-align: middle; margin-left: 0.5rem\">Narendra Modi</span>\n",
       "</mark>\n",
       " know that and doesnt want to go to war with pakistan and that is the reason why he hasnt attacked pakistan or waged a full scale war against pakistan instead he choose to attack a terrorist base camp which happen to be located in Pakistan</div>"
      ],
      "text/plain": [
       "<IPython.core.display.HTML object>"
      ]
     },
     "metadata": {},
     "output_type": "display_data"
    },
    {
     "name": "stdout",
     "output_type": "stream",
     "text": [
      "--\n"
     ]
    },
    {
     "data": {
      "text/html": [
       "<div class=\"entities\" style=\"line-height: 2.5\">And some people are stating that the incidents of Uri and \n",
       "<mark class=\"entity\" style=\"background: #ddd; padding: 0.45em 0.6em; margin: 0 0.25em; line-height: 1; border-radius: 0.35em; box-decoration-break: clone; -webkit-box-decoration-break: clone\">\n",
       "    Pulwama\n",
       "    <span style=\"font-size: 0.8em; font-weight: bold; line-height: 1; border-radius: 0.35em; text-transform: uppercase; vertical-align: middle; margin-left: 0.5rem\">Location</span>\n",
       "</mark>\n",
       " occurred because of \n",
       "<mark class=\"entity\" style=\"background: #ddd; padding: 0.45em 0.6em; margin: 0 0.25em; line-height: 1; border-radius: 0.35em; box-decoration-break: clone; -webkit-box-decoration-break: clone\">\n",
       "    PM Modi\n",
       "    <span style=\"font-size: 0.8em; font-weight: bold; line-height: 1; border-radius: 0.35em; text-transform: uppercase; vertical-align: middle; margin-left: 0.5rem\">Narendra Modi</span>\n",
       "</mark>\n",
       "</div>"
      ],
      "text/plain": [
       "<IPython.core.display.HTML object>"
      ]
     },
     "metadata": {},
     "output_type": "display_data"
    },
    {
     "name": "stdout",
     "output_type": "stream",
     "text": [
      "--\n"
     ]
    }
   ],
   "source": [
    "for i in range(0,10):\n",
    "    testcase = pnlp(TRAIN_DATA[i][0])\n",
    "    displacy.render(testcase, style='ent', jupyter=True)\n",
    "    print(\"--\")"
   ]
  },
  {
   "cell_type": "code",
   "execution_count": null,
   "metadata": {},
   "outputs": [],
   "source": []
  }
 ],
 "metadata": {
  "kernelspec": {
   "display_name": "Python 3",
   "language": "python",
   "name": "python3"
  },
  "language_info": {
   "codemirror_mode": {
    "name": "ipython",
    "version": 3
   },
   "file_extension": ".py",
   "mimetype": "text/x-python",
   "name": "python",
   "nbconvert_exporter": "python",
   "pygments_lexer": "ipython3",
   "version": "3.7.3"
  }
 },
 "nbformat": 4,
 "nbformat_minor": 2
}
